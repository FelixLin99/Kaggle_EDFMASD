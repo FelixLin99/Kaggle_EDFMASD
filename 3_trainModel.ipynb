{
 "cells": [
  {
   "cell_type": "code",
   "execution_count": 1,
   "metadata": {},
   "outputs": [],
   "source": [
    "from scipy.io import loadmat\n",
    "import numpy as np\n",
    "import pickle\n",
    "import pandas as pd\n",
    "\n",
    "from keras.layers.merge import concatenate\n",
    "from keras.models import Model\n",
    "from keras.layers import Input\n",
    "from keras.layers import Dense, LSTM, Embedding, Permute\n",
    "\n",
    "from tensorflow.keras.optimizers import SGD, Nadam, Adam, RMSprop\n",
    "from keras.callbacks import TensorBoard\n",
    "from keras.utils import np_utils\n",
    "from sklearn.model_selection import train_test_split\n",
    "import keras\n",
    "import mne\n",
    "import matplotlib.pyplot as plt\n",
    "import os\n",
    "from keras.callbacks import LearningRateScheduler\n",
    "\n",
    "import keras.backend as K\n",
    "import math\n",
    "\n",
    "from tensorflow.python.framework.ops import disable_eager_execution\n",
    "disable_eager_execution()"
   ]
  },
  {
   "cell_type": "code",
   "execution_count": 2,
   "metadata": {},
   "outputs": [
    {
     "name": "stdout",
     "output_type": "stream",
     "text": [
      "2.5.0\n"
     ]
    }
   ],
   "source": [
    "print(keras.__version__)"
   ]
  },
  {
   "cell_type": "markdown",
   "metadata": {},
   "source": [
    "# 1 数据读取"
   ]
  },
  {
   "cell_type": "code",
   "execution_count": 6,
   "metadata": {},
   "outputs": [],
   "source": [
    "##################################################################\n",
    "# @param  path\n",
    "# @return  Xtrain, Xtest, ytrain, ytest\n",
    "# @desc  输入LSTM要求的X的格式(slice_num, time_step, vector_num)     slice_num * time_step = totalAmount\n",
    "##################################################################\n",
    "def loadData(path,fs = 128):\n",
    "    with open(path, 'rb') as f: \n",
    "        data = pickle.load(f)\n",
    "    x1 = data['trial_1']['focussed']\n",
    "    x2 = data['trial_1']['unfocussed']\n",
    "    x3 = data['trial_1']['drowsed']\n",
    "    for i in range(2,6):\n",
    "        x1 = np.concatenate((x1,data[f'trial_{i}']['focussed']),axis=0)\n",
    "        x2 = np.concatenate((x2,data[f'trial_{i}']['unfocussed']),axis=0)\n",
    "        x3 = np.concatenate((x3,data[f'trial_{i}']['drowsed']),axis=0)\n",
    "    size = len(x1)\n",
    "    X = np.concatenate((x1,x2,x3),axis=0)\n",
    "    y = np.concatenate((np.array([2 for _ in range(size)], dtype = int),\n",
    "                        np.array([1 for _ in range(size)], dtype = int),\n",
    "                        np.array([0 for _ in range(size)], dtype = int))\n",
    "                      )\n",
    "    y = y.reshape(len(y),1)\n",
    "    y = np_utils.to_categorical(y, 3).astype('int8')\n",
    "\n",
    "    per = np.random.permutation(X.shape[0]) #打乱后的行号\n",
    "    X = X[per, :, :] #获取打乱后的训练数据\n",
    "    y = y[per]\n",
    "    \n",
    "    # CNN\n",
    "    X = X.reshape(np.shape(X)[0], np.shape(X)[1], np.shape(X)[2],1)\n",
    "    \n",
    "#     '''用于SVM'''\n",
    "#     X =  X.reshape(np.shape(X)[0],np.shape(X)[1]*np.shape(X)[2])\n",
    "#     y = y.reshape(len(y))\n",
    "    \n",
    "    # 分割训练集，测试集\n",
    "    Xtrain, Xtest, ytrain, ytest = train_test_split(X, y, test_size=0.15, random_state=33)\n",
    "    return Xtrain, ytrain, Xtest, ytest\n",
    "#     return X, y"
   ]
  },
  {
   "cell_type": "markdown",
   "metadata": {},
   "source": [
    "# 2 模型搭建"
   ]
  },
  {
   "cell_type": "markdown",
   "metadata": {},
   "source": [
    "### 2.1 LSTM"
   ]
  },
  {
   "cell_type": "code",
   "execution_count": 1,
   "metadata": {},
   "outputs": [],
   "source": [
    "##################################################################\n",
    "# @param  input_shape: (time_step, vector)\n",
    "# @return  model\n",
    "##################################################################\n",
    "def DoubleLSTM(input_shape):\n",
    "    TIME_STEPS = input_shape[0]\n",
    "    INPUT_DIM = input_shape[1]\n",
    "    layer1_units = 768\n",
    "    layer2_units = 256\n",
    "    \n",
    "    inputs = Input(shape=(TIME_STEPS, INPUT_DIM,)) \n",
    "    \n",
    "    # (batch_size, time_steps, INPUT_DIM) -> (batch_size, input_dim, lstm_units)\n",
    "    lstm_out_1 = LSTM(layer1_units, return_sequences=True)(inputs)\n",
    "    \n",
    "    # 注意力机制\n",
    "    # attention_mul = attention_3d_block(lstm_out_1, input_shape[0])\n",
    "    \n",
    "    \n",
    "    # (batch_size, input_dim, lstm_units) -> (batch_size, input_dim*lstm_units)\n",
    "    lstm_out_2 = LSTM(layer2_units, return_sequences=False)(lstm_out_1)\n",
    "    #lstm_out_2 = Flatten()(lstm_out_2)\n",
    "    \n",
    "    outputs = Dense(3, activation='sigmoid')(lstm_out_2)\n",
    "    model = Model(inputs=inputs, outputs=outputs)\n",
    "    \n",
    "    #查看网络结构\n",
    "    model.summary()\n",
    "    \n",
    "    #编译模型\n",
    "    model.compile(optimizer='adam',loss='categorical_crossentropy',metrics=['accuracy'])\n",
    "    \n",
    "    return model\n"
   ]
  },
  {
   "cell_type": "code",
   "execution_count": 5,
   "metadata": {},
   "outputs": [
    {
     "ename": "NotImplementedError",
     "evalue": "Cannot convert a symbolic Tensor (lstm_2/strided_slice:0) to a numpy array. This error may indicate that you're trying to pass a Tensor to a NumPy call, which is not supported",
     "output_type": "error",
     "traceback": [
      "\u001b[1;31m---------------------------------------------------------------------------\u001b[0m",
      "\u001b[1;31mNotImplementedError\u001b[0m                       Traceback (most recent call last)",
      "\u001b[1;32m~\\AppData\\Local\\Temp/ipykernel_26808/3040958562.py\u001b[0m in \u001b[0;36m<module>\u001b[1;34m\u001b[0m\n\u001b[1;32m----> 1\u001b[1;33m \u001b[0mDoubleLSTM\u001b[0m\u001b[1;33m(\u001b[0m\u001b[0mnp\u001b[0m\u001b[1;33m.\u001b[0m\u001b[0marray\u001b[0m\u001b[1;33m(\u001b[0m\u001b[1;33m[\u001b[0m\u001b[1;36m10\u001b[0m\u001b[1;33m,\u001b[0m\u001b[1;36m10\u001b[0m\u001b[1;33m]\u001b[0m\u001b[1;33m)\u001b[0m\u001b[1;33m)\u001b[0m\u001b[1;33m\u001b[0m\u001b[1;33m\u001b[0m\u001b[0m\n\u001b[0m",
      "\u001b[1;32m~\\AppData\\Local\\Temp/ipykernel_26808/2557221043.py\u001b[0m in \u001b[0;36mDoubleLSTM\u001b[1;34m(input_shape)\u001b[0m\n\u001b[0;32m     12\u001b[0m \u001b[1;33m\u001b[0m\u001b[0m\n\u001b[0;32m     13\u001b[0m     \u001b[1;31m# (batch_size, time_steps, INPUT_DIM) -> (batch_size, input_dim, lstm_units)\u001b[0m\u001b[1;33m\u001b[0m\u001b[1;33m\u001b[0m\u001b[1;33m\u001b[0m\u001b[0m\n\u001b[1;32m---> 14\u001b[1;33m     \u001b[0mlstm_out_1\u001b[0m \u001b[1;33m=\u001b[0m \u001b[0mLSTM\u001b[0m\u001b[1;33m(\u001b[0m\u001b[0mlayer1_units\u001b[0m\u001b[1;33m,\u001b[0m \u001b[0mreturn_sequences\u001b[0m\u001b[1;33m=\u001b[0m\u001b[1;32mTrue\u001b[0m\u001b[1;33m)\u001b[0m\u001b[1;33m(\u001b[0m\u001b[0minputs\u001b[0m\u001b[1;33m)\u001b[0m\u001b[1;33m\u001b[0m\u001b[1;33m\u001b[0m\u001b[0m\n\u001b[0m\u001b[0;32m     15\u001b[0m \u001b[1;33m\u001b[0m\u001b[0m\n\u001b[0;32m     16\u001b[0m     \u001b[1;31m# 注意力机制\u001b[0m\u001b[1;33m\u001b[0m\u001b[1;33m\u001b[0m\u001b[1;33m\u001b[0m\u001b[0m\n",
      "\u001b[1;32mD:\\Apps\\Anaconda3\\lib\\site-packages\\keras\\layers\\recurrent.py\u001b[0m in \u001b[0;36m__call__\u001b[1;34m(self, inputs, initial_state, constants, **kwargs)\u001b[0m\n\u001b[0;32m    658\u001b[0m \u001b[1;33m\u001b[0m\u001b[0m\n\u001b[0;32m    659\u001b[0m     \u001b[1;32mif\u001b[0m \u001b[0minitial_state\u001b[0m \u001b[1;32mis\u001b[0m \u001b[1;32mNone\u001b[0m \u001b[1;32mand\u001b[0m \u001b[0mconstants\u001b[0m \u001b[1;32mis\u001b[0m \u001b[1;32mNone\u001b[0m\u001b[1;33m:\u001b[0m\u001b[1;33m\u001b[0m\u001b[1;33m\u001b[0m\u001b[0m\n\u001b[1;32m--> 660\u001b[1;33m       \u001b[1;32mreturn\u001b[0m \u001b[0msuper\u001b[0m\u001b[1;33m(\u001b[0m\u001b[0mRNN\u001b[0m\u001b[1;33m,\u001b[0m \u001b[0mself\u001b[0m\u001b[1;33m)\u001b[0m\u001b[1;33m.\u001b[0m\u001b[0m__call__\u001b[0m\u001b[1;33m(\u001b[0m\u001b[0minputs\u001b[0m\u001b[1;33m,\u001b[0m \u001b[1;33m**\u001b[0m\u001b[0mkwargs\u001b[0m\u001b[1;33m)\u001b[0m\u001b[1;33m\u001b[0m\u001b[1;33m\u001b[0m\u001b[0m\n\u001b[0m\u001b[0;32m    661\u001b[0m \u001b[1;33m\u001b[0m\u001b[0m\n\u001b[0;32m    662\u001b[0m     \u001b[1;31m# If any of `initial_state` or `constants` are specified and are Keras\u001b[0m\u001b[1;33m\u001b[0m\u001b[1;33m\u001b[0m\u001b[1;33m\u001b[0m\u001b[0m\n",
      "\u001b[1;32mD:\\Apps\\Anaconda3\\lib\\site-packages\\keras\\engine\\base_layer_v1.py\u001b[0m in \u001b[0;36m__call__\u001b[1;34m(self, *args, **kwargs)\u001b[0m\n\u001b[0;32m    763\u001b[0m               with autocast_variable.enable_auto_cast_variables(\n\u001b[0;32m    764\u001b[0m                   self._compute_dtype_object):\n\u001b[1;32m--> 765\u001b[1;33m                 \u001b[0moutputs\u001b[0m \u001b[1;33m=\u001b[0m \u001b[0mcall_fn\u001b[0m\u001b[1;33m(\u001b[0m\u001b[0mcast_inputs\u001b[0m\u001b[1;33m,\u001b[0m \u001b[1;33m*\u001b[0m\u001b[0margs\u001b[0m\u001b[1;33m,\u001b[0m \u001b[1;33m**\u001b[0m\u001b[0mkwargs\u001b[0m\u001b[1;33m)\u001b[0m\u001b[1;33m\u001b[0m\u001b[1;33m\u001b[0m\u001b[0m\n\u001b[0m\u001b[0;32m    766\u001b[0m \u001b[1;33m\u001b[0m\u001b[0m\n\u001b[0;32m    767\u001b[0m             \u001b[1;32mexcept\u001b[0m \u001b[0mtf\u001b[0m\u001b[1;33m.\u001b[0m\u001b[0merrors\u001b[0m\u001b[1;33m.\u001b[0m\u001b[0mOperatorNotAllowedInGraphError\u001b[0m \u001b[1;32mas\u001b[0m \u001b[0me\u001b[0m\u001b[1;33m:\u001b[0m\u001b[1;33m\u001b[0m\u001b[1;33m\u001b[0m\u001b[0m\n",
      "\u001b[1;32mD:\\Apps\\Anaconda3\\lib\\site-packages\\keras\\layers\\recurrent_v2.py\u001b[0m in \u001b[0;36mcall\u001b[1;34m(self, inputs, mask, training, initial_state)\u001b[0m\n\u001b[0;32m   1137\u001b[0m \u001b[1;33m\u001b[0m\u001b[0m\n\u001b[0;32m   1138\u001b[0m     \u001b[1;31m# LSTM does not support constants. Ignore it during process.\u001b[0m\u001b[1;33m\u001b[0m\u001b[1;33m\u001b[0m\u001b[1;33m\u001b[0m\u001b[0m\n\u001b[1;32m-> 1139\u001b[1;33m     \u001b[0minputs\u001b[0m\u001b[1;33m,\u001b[0m \u001b[0minitial_state\u001b[0m\u001b[1;33m,\u001b[0m \u001b[0m_\u001b[0m \u001b[1;33m=\u001b[0m \u001b[0mself\u001b[0m\u001b[1;33m.\u001b[0m\u001b[0m_process_inputs\u001b[0m\u001b[1;33m(\u001b[0m\u001b[0minputs\u001b[0m\u001b[1;33m,\u001b[0m \u001b[0minitial_state\u001b[0m\u001b[1;33m,\u001b[0m \u001b[1;32mNone\u001b[0m\u001b[1;33m)\u001b[0m\u001b[1;33m\u001b[0m\u001b[1;33m\u001b[0m\u001b[0m\n\u001b[0m\u001b[0;32m   1140\u001b[0m \u001b[1;33m\u001b[0m\u001b[0m\n\u001b[0;32m   1141\u001b[0m     \u001b[1;32mif\u001b[0m \u001b[0misinstance\u001b[0m\u001b[1;33m(\u001b[0m\u001b[0mmask\u001b[0m\u001b[1;33m,\u001b[0m \u001b[0mlist\u001b[0m\u001b[1;33m)\u001b[0m\u001b[1;33m:\u001b[0m\u001b[1;33m\u001b[0m\u001b[1;33m\u001b[0m\u001b[0m\n",
      "\u001b[1;32mD:\\Apps\\Anaconda3\\lib\\site-packages\\keras\\layers\\recurrent.py\u001b[0m in \u001b[0;36m_process_inputs\u001b[1;34m(self, inputs, initial_state, constants)\u001b[0m\n\u001b[0;32m    858\u001b[0m         \u001b[0minitial_state\u001b[0m \u001b[1;33m=\u001b[0m \u001b[0mself\u001b[0m\u001b[1;33m.\u001b[0m\u001b[0mstates\u001b[0m\u001b[1;33m\u001b[0m\u001b[1;33m\u001b[0m\u001b[0m\n\u001b[0;32m    859\u001b[0m     \u001b[1;32melif\u001b[0m \u001b[0minitial_state\u001b[0m \u001b[1;32mis\u001b[0m \u001b[1;32mNone\u001b[0m\u001b[1;33m:\u001b[0m\u001b[1;33m\u001b[0m\u001b[1;33m\u001b[0m\u001b[0m\n\u001b[1;32m--> 860\u001b[1;33m       \u001b[0minitial_state\u001b[0m \u001b[1;33m=\u001b[0m \u001b[0mself\u001b[0m\u001b[1;33m.\u001b[0m\u001b[0mget_initial_state\u001b[0m\u001b[1;33m(\u001b[0m\u001b[0minputs\u001b[0m\u001b[1;33m)\u001b[0m\u001b[1;33m\u001b[0m\u001b[1;33m\u001b[0m\u001b[0m\n\u001b[0m\u001b[0;32m    861\u001b[0m \u001b[1;33m\u001b[0m\u001b[0m\n\u001b[0;32m    862\u001b[0m     \u001b[1;32mif\u001b[0m \u001b[0mlen\u001b[0m\u001b[1;33m(\u001b[0m\u001b[0minitial_state\u001b[0m\u001b[1;33m)\u001b[0m \u001b[1;33m!=\u001b[0m \u001b[0mlen\u001b[0m\u001b[1;33m(\u001b[0m\u001b[0mself\u001b[0m\u001b[1;33m.\u001b[0m\u001b[0mstates\u001b[0m\u001b[1;33m)\u001b[0m\u001b[1;33m:\u001b[0m\u001b[1;33m\u001b[0m\u001b[1;33m\u001b[0m\u001b[0m\n",
      "\u001b[1;32mD:\\Apps\\Anaconda3\\lib\\site-packages\\keras\\layers\\recurrent.py\u001b[0m in \u001b[0;36mget_initial_state\u001b[1;34m(self, inputs)\u001b[0m\n\u001b[0;32m    640\u001b[0m     \u001b[0mdtype\u001b[0m \u001b[1;33m=\u001b[0m \u001b[0minputs\u001b[0m\u001b[1;33m.\u001b[0m\u001b[0mdtype\u001b[0m\u001b[1;33m\u001b[0m\u001b[1;33m\u001b[0m\u001b[0m\n\u001b[0;32m    641\u001b[0m     \u001b[1;32mif\u001b[0m \u001b[0mget_initial_state_fn\u001b[0m\u001b[1;33m:\u001b[0m\u001b[1;33m\u001b[0m\u001b[1;33m\u001b[0m\u001b[0m\n\u001b[1;32m--> 642\u001b[1;33m       init_state = get_initial_state_fn(\n\u001b[0m\u001b[0;32m    643\u001b[0m           inputs=None, batch_size=batch_size, dtype=dtype)\n\u001b[0;32m    644\u001b[0m     \u001b[1;32melse\u001b[0m\u001b[1;33m:\u001b[0m\u001b[1;33m\u001b[0m\u001b[1;33m\u001b[0m\u001b[0m\n",
      "\u001b[1;32mD:\\Apps\\Anaconda3\\lib\\site-packages\\keras\\layers\\recurrent.py\u001b[0m in \u001b[0;36mget_initial_state\u001b[1;34m(self, inputs, batch_size, dtype)\u001b[0m\n\u001b[0;32m   2506\u001b[0m \u001b[1;33m\u001b[0m\u001b[0m\n\u001b[0;32m   2507\u001b[0m   \u001b[1;32mdef\u001b[0m \u001b[0mget_initial_state\u001b[0m\u001b[1;33m(\u001b[0m\u001b[0mself\u001b[0m\u001b[1;33m,\u001b[0m \u001b[0minputs\u001b[0m\u001b[1;33m=\u001b[0m\u001b[1;32mNone\u001b[0m\u001b[1;33m,\u001b[0m \u001b[0mbatch_size\u001b[0m\u001b[1;33m=\u001b[0m\u001b[1;32mNone\u001b[0m\u001b[1;33m,\u001b[0m \u001b[0mdtype\u001b[0m\u001b[1;33m=\u001b[0m\u001b[1;32mNone\u001b[0m\u001b[1;33m)\u001b[0m\u001b[1;33m:\u001b[0m\u001b[1;33m\u001b[0m\u001b[1;33m\u001b[0m\u001b[0m\n\u001b[1;32m-> 2508\u001b[1;33m     return list(_generate_zero_filled_state_for_cell(\n\u001b[0m\u001b[0;32m   2509\u001b[0m         self, inputs, batch_size, dtype))\n\u001b[0;32m   2510\u001b[0m \u001b[1;33m\u001b[0m\u001b[0m\n",
      "\u001b[1;32mD:\\Apps\\Anaconda3\\lib\\site-packages\\keras\\layers\\recurrent.py\u001b[0m in \u001b[0;36m_generate_zero_filled_state_for_cell\u001b[1;34m(cell, inputs, batch_size, dtype)\u001b[0m\n\u001b[0;32m   2988\u001b[0m     \u001b[0mbatch_size\u001b[0m \u001b[1;33m=\u001b[0m \u001b[0mtf\u001b[0m\u001b[1;33m.\u001b[0m\u001b[0mcompat\u001b[0m\u001b[1;33m.\u001b[0m\u001b[0mv1\u001b[0m\u001b[1;33m.\u001b[0m\u001b[0mshape\u001b[0m\u001b[1;33m(\u001b[0m\u001b[0minputs\u001b[0m\u001b[1;33m)\u001b[0m\u001b[1;33m[\u001b[0m\u001b[1;36m0\u001b[0m\u001b[1;33m]\u001b[0m\u001b[1;33m\u001b[0m\u001b[1;33m\u001b[0m\u001b[0m\n\u001b[0;32m   2989\u001b[0m     \u001b[0mdtype\u001b[0m \u001b[1;33m=\u001b[0m \u001b[0minputs\u001b[0m\u001b[1;33m.\u001b[0m\u001b[0mdtype\u001b[0m\u001b[1;33m\u001b[0m\u001b[1;33m\u001b[0m\u001b[0m\n\u001b[1;32m-> 2990\u001b[1;33m   \u001b[1;32mreturn\u001b[0m \u001b[0m_generate_zero_filled_state\u001b[0m\u001b[1;33m(\u001b[0m\u001b[0mbatch_size\u001b[0m\u001b[1;33m,\u001b[0m \u001b[0mcell\u001b[0m\u001b[1;33m.\u001b[0m\u001b[0mstate_size\u001b[0m\u001b[1;33m,\u001b[0m \u001b[0mdtype\u001b[0m\u001b[1;33m)\u001b[0m\u001b[1;33m\u001b[0m\u001b[1;33m\u001b[0m\u001b[0m\n\u001b[0m\u001b[0;32m   2991\u001b[0m \u001b[1;33m\u001b[0m\u001b[0m\n\u001b[0;32m   2992\u001b[0m \u001b[1;33m\u001b[0m\u001b[0m\n",
      "\u001b[1;32mD:\\Apps\\Anaconda3\\lib\\site-packages\\keras\\layers\\recurrent.py\u001b[0m in \u001b[0;36m_generate_zero_filled_state\u001b[1;34m(batch_size_tensor, state_size, dtype)\u001b[0m\n\u001b[0;32m   3004\u001b[0m \u001b[1;33m\u001b[0m\u001b[0m\n\u001b[0;32m   3005\u001b[0m   \u001b[1;32mif\u001b[0m \u001b[0mtf\u001b[0m\u001b[1;33m.\u001b[0m\u001b[0mnest\u001b[0m\u001b[1;33m.\u001b[0m\u001b[0mis_nested\u001b[0m\u001b[1;33m(\u001b[0m\u001b[0mstate_size\u001b[0m\u001b[1;33m)\u001b[0m\u001b[1;33m:\u001b[0m\u001b[1;33m\u001b[0m\u001b[1;33m\u001b[0m\u001b[0m\n\u001b[1;32m-> 3006\u001b[1;33m     \u001b[1;32mreturn\u001b[0m \u001b[0mtf\u001b[0m\u001b[1;33m.\u001b[0m\u001b[0mnest\u001b[0m\u001b[1;33m.\u001b[0m\u001b[0mmap_structure\u001b[0m\u001b[1;33m(\u001b[0m\u001b[0mcreate_zeros\u001b[0m\u001b[1;33m,\u001b[0m \u001b[0mstate_size\u001b[0m\u001b[1;33m)\u001b[0m\u001b[1;33m\u001b[0m\u001b[1;33m\u001b[0m\u001b[0m\n\u001b[0m\u001b[0;32m   3007\u001b[0m   \u001b[1;32melse\u001b[0m\u001b[1;33m:\u001b[0m\u001b[1;33m\u001b[0m\u001b[1;33m\u001b[0m\u001b[0m\n\u001b[0;32m   3008\u001b[0m     \u001b[1;32mreturn\u001b[0m \u001b[0mcreate_zeros\u001b[0m\u001b[1;33m(\u001b[0m\u001b[0mstate_size\u001b[0m\u001b[1;33m)\u001b[0m\u001b[1;33m\u001b[0m\u001b[1;33m\u001b[0m\u001b[0m\n",
      "\u001b[1;32mD:\\Apps\\Anaconda3\\lib\\site-packages\\tensorflow\\python\\util\\nest.py\u001b[0m in \u001b[0;36mmap_structure\u001b[1;34m(func, *structure, **kwargs)\u001b[0m\n\u001b[0;32m    865\u001b[0m \u001b[1;33m\u001b[0m\u001b[0m\n\u001b[0;32m    866\u001b[0m   return pack_sequence_as(\n\u001b[1;32m--> 867\u001b[1;33m       \u001b[0mstructure\u001b[0m\u001b[1;33m[\u001b[0m\u001b[1;36m0\u001b[0m\u001b[1;33m]\u001b[0m\u001b[1;33m,\u001b[0m \u001b[1;33m[\u001b[0m\u001b[0mfunc\u001b[0m\u001b[1;33m(\u001b[0m\u001b[1;33m*\u001b[0m\u001b[0mx\u001b[0m\u001b[1;33m)\u001b[0m \u001b[1;32mfor\u001b[0m \u001b[0mx\u001b[0m \u001b[1;32min\u001b[0m \u001b[0mentries\u001b[0m\u001b[1;33m]\u001b[0m\u001b[1;33m,\u001b[0m\u001b[1;33m\u001b[0m\u001b[1;33m\u001b[0m\u001b[0m\n\u001b[0m\u001b[0;32m    868\u001b[0m       expand_composites=expand_composites)\n\u001b[0;32m    869\u001b[0m \u001b[1;33m\u001b[0m\u001b[0m\n",
      "\u001b[1;32mD:\\Apps\\Anaconda3\\lib\\site-packages\\tensorflow\\python\\util\\nest.py\u001b[0m in \u001b[0;36m<listcomp>\u001b[1;34m(.0)\u001b[0m\n\u001b[0;32m    865\u001b[0m \u001b[1;33m\u001b[0m\u001b[0m\n\u001b[0;32m    866\u001b[0m   return pack_sequence_as(\n\u001b[1;32m--> 867\u001b[1;33m       \u001b[0mstructure\u001b[0m\u001b[1;33m[\u001b[0m\u001b[1;36m0\u001b[0m\u001b[1;33m]\u001b[0m\u001b[1;33m,\u001b[0m \u001b[1;33m[\u001b[0m\u001b[0mfunc\u001b[0m\u001b[1;33m(\u001b[0m\u001b[1;33m*\u001b[0m\u001b[0mx\u001b[0m\u001b[1;33m)\u001b[0m \u001b[1;32mfor\u001b[0m \u001b[0mx\u001b[0m \u001b[1;32min\u001b[0m \u001b[0mentries\u001b[0m\u001b[1;33m]\u001b[0m\u001b[1;33m,\u001b[0m\u001b[1;33m\u001b[0m\u001b[1;33m\u001b[0m\u001b[0m\n\u001b[0m\u001b[0;32m    868\u001b[0m       expand_composites=expand_composites)\n\u001b[0;32m    869\u001b[0m \u001b[1;33m\u001b[0m\u001b[0m\n",
      "\u001b[1;32mD:\\Apps\\Anaconda3\\lib\\site-packages\\keras\\layers\\recurrent.py\u001b[0m in \u001b[0;36mcreate_zeros\u001b[1;34m(unnested_state_size)\u001b[0m\n\u001b[0;32m   3001\u001b[0m     \u001b[0mflat_dims\u001b[0m \u001b[1;33m=\u001b[0m \u001b[0mtf\u001b[0m\u001b[1;33m.\u001b[0m\u001b[0mTensorShape\u001b[0m\u001b[1;33m(\u001b[0m\u001b[0munnested_state_size\u001b[0m\u001b[1;33m)\u001b[0m\u001b[1;33m.\u001b[0m\u001b[0mas_list\u001b[0m\u001b[1;33m(\u001b[0m\u001b[1;33m)\u001b[0m\u001b[1;33m\u001b[0m\u001b[1;33m\u001b[0m\u001b[0m\n\u001b[0;32m   3002\u001b[0m     \u001b[0minit_state_size\u001b[0m \u001b[1;33m=\u001b[0m \u001b[1;33m[\u001b[0m\u001b[0mbatch_size_tensor\u001b[0m\u001b[1;33m]\u001b[0m \u001b[1;33m+\u001b[0m \u001b[0mflat_dims\u001b[0m\u001b[1;33m\u001b[0m\u001b[1;33m\u001b[0m\u001b[0m\n\u001b[1;32m-> 3003\u001b[1;33m     \u001b[1;32mreturn\u001b[0m \u001b[0mtf\u001b[0m\u001b[1;33m.\u001b[0m\u001b[0mzeros\u001b[0m\u001b[1;33m(\u001b[0m\u001b[0minit_state_size\u001b[0m\u001b[1;33m,\u001b[0m \u001b[0mdtype\u001b[0m\u001b[1;33m=\u001b[0m\u001b[0mdtype\u001b[0m\u001b[1;33m)\u001b[0m\u001b[1;33m\u001b[0m\u001b[1;33m\u001b[0m\u001b[0m\n\u001b[0m\u001b[0;32m   3004\u001b[0m \u001b[1;33m\u001b[0m\u001b[0m\n\u001b[0;32m   3005\u001b[0m   \u001b[1;32mif\u001b[0m \u001b[0mtf\u001b[0m\u001b[1;33m.\u001b[0m\u001b[0mnest\u001b[0m\u001b[1;33m.\u001b[0m\u001b[0mis_nested\u001b[0m\u001b[1;33m(\u001b[0m\u001b[0mstate_size\u001b[0m\u001b[1;33m)\u001b[0m\u001b[1;33m:\u001b[0m\u001b[1;33m\u001b[0m\u001b[1;33m\u001b[0m\u001b[0m\n",
      "\u001b[1;32mD:\\Apps\\Anaconda3\\lib\\site-packages\\tensorflow\\python\\util\\dispatch.py\u001b[0m in \u001b[0;36mwrapper\u001b[1;34m(*args, **kwargs)\u001b[0m\n\u001b[0;32m    204\u001b[0m     \u001b[1;34m\"\"\"Call target, and fall back on dispatchers if there is a TypeError.\"\"\"\u001b[0m\u001b[1;33m\u001b[0m\u001b[1;33m\u001b[0m\u001b[0m\n\u001b[0;32m    205\u001b[0m     \u001b[1;32mtry\u001b[0m\u001b[1;33m:\u001b[0m\u001b[1;33m\u001b[0m\u001b[1;33m\u001b[0m\u001b[0m\n\u001b[1;32m--> 206\u001b[1;33m       \u001b[1;32mreturn\u001b[0m \u001b[0mtarget\u001b[0m\u001b[1;33m(\u001b[0m\u001b[1;33m*\u001b[0m\u001b[0margs\u001b[0m\u001b[1;33m,\u001b[0m \u001b[1;33m**\u001b[0m\u001b[0mkwargs\u001b[0m\u001b[1;33m)\u001b[0m\u001b[1;33m\u001b[0m\u001b[1;33m\u001b[0m\u001b[0m\n\u001b[0m\u001b[0;32m    207\u001b[0m     \u001b[1;32mexcept\u001b[0m \u001b[1;33m(\u001b[0m\u001b[0mTypeError\u001b[0m\u001b[1;33m,\u001b[0m \u001b[0mValueError\u001b[0m\u001b[1;33m)\u001b[0m\u001b[1;33m:\u001b[0m\u001b[1;33m\u001b[0m\u001b[1;33m\u001b[0m\u001b[0m\n\u001b[0;32m    208\u001b[0m       \u001b[1;31m# Note: convert_to_eager_tensor currently raises a ValueError, not a\u001b[0m\u001b[1;33m\u001b[0m\u001b[1;33m\u001b[0m\u001b[1;33m\u001b[0m\u001b[0m\n",
      "\u001b[1;32mD:\\Apps\\Anaconda3\\lib\\site-packages\\tensorflow\\python\\ops\\array_ops.py\u001b[0m in \u001b[0;36mwrapped\u001b[1;34m(*args, **kwargs)\u001b[0m\n\u001b[0;32m   2909\u001b[0m \u001b[1;33m\u001b[0m\u001b[0m\n\u001b[0;32m   2910\u001b[0m   \u001b[1;32mdef\u001b[0m \u001b[0mwrapped\u001b[0m\u001b[1;33m(\u001b[0m\u001b[1;33m*\u001b[0m\u001b[0margs\u001b[0m\u001b[1;33m,\u001b[0m \u001b[1;33m**\u001b[0m\u001b[0mkwargs\u001b[0m\u001b[1;33m)\u001b[0m\u001b[1;33m:\u001b[0m\u001b[1;33m\u001b[0m\u001b[1;33m\u001b[0m\u001b[0m\n\u001b[1;32m-> 2911\u001b[1;33m     \u001b[0mtensor\u001b[0m \u001b[1;33m=\u001b[0m \u001b[0mfun\u001b[0m\u001b[1;33m(\u001b[0m\u001b[1;33m*\u001b[0m\u001b[0margs\u001b[0m\u001b[1;33m,\u001b[0m \u001b[1;33m**\u001b[0m\u001b[0mkwargs\u001b[0m\u001b[1;33m)\u001b[0m\u001b[1;33m\u001b[0m\u001b[1;33m\u001b[0m\u001b[0m\n\u001b[0m\u001b[0;32m   2912\u001b[0m     \u001b[0mtensor\u001b[0m\u001b[1;33m.\u001b[0m\u001b[0m_is_zeros_tensor\u001b[0m \u001b[1;33m=\u001b[0m \u001b[1;32mTrue\u001b[0m\u001b[1;33m\u001b[0m\u001b[1;33m\u001b[0m\u001b[0m\n\u001b[0;32m   2913\u001b[0m     \u001b[1;32mreturn\u001b[0m \u001b[0mtensor\u001b[0m\u001b[1;33m\u001b[0m\u001b[1;33m\u001b[0m\u001b[0m\n",
      "\u001b[1;32mD:\\Apps\\Anaconda3\\lib\\site-packages\\tensorflow\\python\\ops\\array_ops.py\u001b[0m in \u001b[0;36mzeros\u001b[1;34m(shape, dtype, name)\u001b[0m\n\u001b[0;32m   2958\u001b[0m           \u001b[1;31m# Create a constant if it won't be very big. Otherwise create a fill\u001b[0m\u001b[1;33m\u001b[0m\u001b[1;33m\u001b[0m\u001b[1;33m\u001b[0m\u001b[0m\n\u001b[0;32m   2959\u001b[0m           \u001b[1;31m# op to prevent serialized GraphDefs from becoming too large.\u001b[0m\u001b[1;33m\u001b[0m\u001b[1;33m\u001b[0m\u001b[1;33m\u001b[0m\u001b[0m\n\u001b[1;32m-> 2960\u001b[1;33m           \u001b[0moutput\u001b[0m \u001b[1;33m=\u001b[0m \u001b[0m_constant_if_small\u001b[0m\u001b[1;33m(\u001b[0m\u001b[0mzero\u001b[0m\u001b[1;33m,\u001b[0m \u001b[0mshape\u001b[0m\u001b[1;33m,\u001b[0m \u001b[0mdtype\u001b[0m\u001b[1;33m,\u001b[0m \u001b[0mname\u001b[0m\u001b[1;33m)\u001b[0m\u001b[1;33m\u001b[0m\u001b[1;33m\u001b[0m\u001b[0m\n\u001b[0m\u001b[0;32m   2961\u001b[0m           \u001b[1;32mif\u001b[0m \u001b[0moutput\u001b[0m \u001b[1;32mis\u001b[0m \u001b[1;32mnot\u001b[0m \u001b[1;32mNone\u001b[0m\u001b[1;33m:\u001b[0m\u001b[1;33m\u001b[0m\u001b[1;33m\u001b[0m\u001b[0m\n\u001b[0;32m   2962\u001b[0m             \u001b[1;32mreturn\u001b[0m \u001b[0moutput\u001b[0m\u001b[1;33m\u001b[0m\u001b[1;33m\u001b[0m\u001b[0m\n",
      "\u001b[1;32mD:\\Apps\\Anaconda3\\lib\\site-packages\\tensorflow\\python\\ops\\array_ops.py\u001b[0m in \u001b[0;36m_constant_if_small\u001b[1;34m(value, shape, dtype, name)\u001b[0m\n\u001b[0;32m   2894\u001b[0m \u001b[1;32mdef\u001b[0m \u001b[0m_constant_if_small\u001b[0m\u001b[1;33m(\u001b[0m\u001b[0mvalue\u001b[0m\u001b[1;33m,\u001b[0m \u001b[0mshape\u001b[0m\u001b[1;33m,\u001b[0m \u001b[0mdtype\u001b[0m\u001b[1;33m,\u001b[0m \u001b[0mname\u001b[0m\u001b[1;33m)\u001b[0m\u001b[1;33m:\u001b[0m\u001b[1;33m\u001b[0m\u001b[1;33m\u001b[0m\u001b[0m\n\u001b[0;32m   2895\u001b[0m   \u001b[1;32mtry\u001b[0m\u001b[1;33m:\u001b[0m\u001b[1;33m\u001b[0m\u001b[1;33m\u001b[0m\u001b[0m\n\u001b[1;32m-> 2896\u001b[1;33m     \u001b[1;32mif\u001b[0m \u001b[0mnp\u001b[0m\u001b[1;33m.\u001b[0m\u001b[0mprod\u001b[0m\u001b[1;33m(\u001b[0m\u001b[0mshape\u001b[0m\u001b[1;33m)\u001b[0m \u001b[1;33m<\u001b[0m \u001b[1;36m1000\u001b[0m\u001b[1;33m:\u001b[0m\u001b[1;33m\u001b[0m\u001b[1;33m\u001b[0m\u001b[0m\n\u001b[0m\u001b[0;32m   2897\u001b[0m       \u001b[1;32mreturn\u001b[0m \u001b[0mconstant\u001b[0m\u001b[1;33m(\u001b[0m\u001b[0mvalue\u001b[0m\u001b[1;33m,\u001b[0m \u001b[0mshape\u001b[0m\u001b[1;33m=\u001b[0m\u001b[0mshape\u001b[0m\u001b[1;33m,\u001b[0m \u001b[0mdtype\u001b[0m\u001b[1;33m=\u001b[0m\u001b[0mdtype\u001b[0m\u001b[1;33m,\u001b[0m \u001b[0mname\u001b[0m\u001b[1;33m=\u001b[0m\u001b[0mname\u001b[0m\u001b[1;33m)\u001b[0m\u001b[1;33m\u001b[0m\u001b[1;33m\u001b[0m\u001b[0m\n\u001b[0;32m   2898\u001b[0m   \u001b[1;32mexcept\u001b[0m \u001b[0mTypeError\u001b[0m\u001b[1;33m:\u001b[0m\u001b[1;33m\u001b[0m\u001b[1;33m\u001b[0m\u001b[0m\n",
      "\u001b[1;32m<__array_function__ internals>\u001b[0m in \u001b[0;36mprod\u001b[1;34m(*args, **kwargs)\u001b[0m\n",
      "\u001b[1;32mD:\\Apps\\Anaconda3\\lib\\site-packages\\numpy\\core\\fromnumeric.py\u001b[0m in \u001b[0;36mprod\u001b[1;34m(a, axis, dtype, out, keepdims, initial, where)\u001b[0m\n\u001b[0;32m   3049\u001b[0m     \u001b[1;36m10\u001b[0m\u001b[1;33m\u001b[0m\u001b[1;33m\u001b[0m\u001b[0m\n\u001b[0;32m   3050\u001b[0m     \"\"\"\n\u001b[1;32m-> 3051\u001b[1;33m     return _wrapreduction(a, np.multiply, 'prod', axis, dtype, out,\n\u001b[0m\u001b[0;32m   3052\u001b[0m                           keepdims=keepdims, initial=initial, where=where)\n\u001b[0;32m   3053\u001b[0m \u001b[1;33m\u001b[0m\u001b[0m\n",
      "\u001b[1;32mD:\\Apps\\Anaconda3\\lib\\site-packages\\numpy\\core\\fromnumeric.py\u001b[0m in \u001b[0;36m_wrapreduction\u001b[1;34m(obj, ufunc, method, axis, dtype, out, **kwargs)\u001b[0m\n\u001b[0;32m     84\u001b[0m                 \u001b[1;32mreturn\u001b[0m \u001b[0mreduction\u001b[0m\u001b[1;33m(\u001b[0m\u001b[0maxis\u001b[0m\u001b[1;33m=\u001b[0m\u001b[0maxis\u001b[0m\u001b[1;33m,\u001b[0m \u001b[0mout\u001b[0m\u001b[1;33m=\u001b[0m\u001b[0mout\u001b[0m\u001b[1;33m,\u001b[0m \u001b[1;33m**\u001b[0m\u001b[0mpasskwargs\u001b[0m\u001b[1;33m)\u001b[0m\u001b[1;33m\u001b[0m\u001b[1;33m\u001b[0m\u001b[0m\n\u001b[0;32m     85\u001b[0m \u001b[1;33m\u001b[0m\u001b[0m\n\u001b[1;32m---> 86\u001b[1;33m     \u001b[1;32mreturn\u001b[0m \u001b[0mufunc\u001b[0m\u001b[1;33m.\u001b[0m\u001b[0mreduce\u001b[0m\u001b[1;33m(\u001b[0m\u001b[0mobj\u001b[0m\u001b[1;33m,\u001b[0m \u001b[0maxis\u001b[0m\u001b[1;33m,\u001b[0m \u001b[0mdtype\u001b[0m\u001b[1;33m,\u001b[0m \u001b[0mout\u001b[0m\u001b[1;33m,\u001b[0m \u001b[1;33m**\u001b[0m\u001b[0mpasskwargs\u001b[0m\u001b[1;33m)\u001b[0m\u001b[1;33m\u001b[0m\u001b[1;33m\u001b[0m\u001b[0m\n\u001b[0m\u001b[0;32m     87\u001b[0m \u001b[1;33m\u001b[0m\u001b[0m\n\u001b[0;32m     88\u001b[0m \u001b[1;33m\u001b[0m\u001b[0m\n",
      "\u001b[1;32mD:\\Apps\\Anaconda3\\lib\\site-packages\\tensorflow\\python\\framework\\ops.py\u001b[0m in \u001b[0;36m__array__\u001b[1;34m(self)\u001b[0m\n\u001b[0;32m    865\u001b[0m \u001b[1;33m\u001b[0m\u001b[0m\n\u001b[0;32m    866\u001b[0m   \u001b[1;32mdef\u001b[0m \u001b[0m__array__\u001b[0m\u001b[1;33m(\u001b[0m\u001b[0mself\u001b[0m\u001b[1;33m)\u001b[0m\u001b[1;33m:\u001b[0m\u001b[1;33m\u001b[0m\u001b[1;33m\u001b[0m\u001b[0m\n\u001b[1;32m--> 867\u001b[1;33m     raise NotImplementedError(\n\u001b[0m\u001b[0;32m    868\u001b[0m         \u001b[1;34m\"Cannot convert a symbolic Tensor ({}) to a numpy array.\"\u001b[0m\u001b[1;33m\u001b[0m\u001b[1;33m\u001b[0m\u001b[0m\n\u001b[0;32m    869\u001b[0m         \u001b[1;34m\" This error may indicate that you're trying to pass a Tensor to\"\u001b[0m\u001b[1;33m\u001b[0m\u001b[1;33m\u001b[0m\u001b[0m\n",
      "\u001b[1;31mNotImplementedError\u001b[0m: Cannot convert a symbolic Tensor (lstm_2/strided_slice:0) to a numpy array. This error may indicate that you're trying to pass a Tensor to a NumPy call, which is not supported"
     ]
    }
   ],
   "source": [
    "DoubleLSTM(np.array([10,10]))"
   ]
  },
  {
   "cell_type": "markdown",
   "metadata": {},
   "source": [
    "### 2.2 CNN"
   ]
  },
  {
   "cell_type": "code",
   "execution_count": 16,
   "metadata": {},
   "outputs": [],
   "source": [
    "from keras.layers import MaxPooling2D,Conv2D,Flatten,Dense, Dropout\n",
    "from keras.models import Sequential"
   ]
  },
  {
   "cell_type": "code",
   "execution_count": 17,
   "metadata": {},
   "outputs": [],
   "source": [
    "# from tensorflow.keras.models import Sequential\n",
    "# from tensorflow.keras.layers import Conv2D\n",
    "# from tensorflow.keras.layers import MaxPooling2D\n",
    "# from tensorflow.keras.layers import Flatten\n",
    "# from tensorflow.keras.layers import Dense\n",
    "# from tensorflow.keras.optimizers import SGD\n",
    "\n",
    "from keras import backend as K\n",
    "\n",
    "def CNN(input_shape):\n",
    "    # backup/trail_1/\n",
    "    # building model\n",
    "    K.set_image_data_format('channels_last')\n",
    "    model = Sequential()\n",
    "\n",
    "    # adding layers\n",
    "    model.add(Conv2D(64, (2, 2), padding=\"same\",input_shape=input_shape, activation='relu'))\n",
    "    model.add(MaxPooling2D(pool_size=(1, 2)))\n",
    "    model.add(Conv2D(128, (2, 2),padding=\"same\", activation='relu'))\n",
    "    model.add(MaxPooling2D(pool_size=(1, 2)))\n",
    "#     model.add(Dropout(0.3))\n",
    "#     model.add(Conv2D(256, (2, 2),padding=\"same\", activation='relu'))\n",
    "#     model.add(MaxPooling2D(pool_size=(2, 2)))\n",
    "\n",
    "    model.add(Flatten())\n",
    "    \n",
    "    # 全连接层\n",
    "    model.add(Dense(128, activation='relu',name='FC1'))\n",
    "    model.add(Dropout(0.5))\n",
    "    model.add(Dense(64, activation='relu',name='FC2'))\n",
    "    model.add(Dropout(0.2))\n",
    "\n",
    "    # prediction layer, using softmax because we are expecting more than two outcomes (DROWSY, FOCUSED, UNFOCUSED)\n",
    "    model.add(Dense(3, activation='softmax'))\n",
    "    \n",
    "    model.summary()\n",
    "    \n",
    "    model.compile(optimizer='adam',loss='categorical_crossentropy',metrics=['accuracy'])\n",
    "\n",
    "    return model"
   ]
  },
  {
   "cell_type": "code",
   "execution_count": 18,
   "metadata": {},
   "outputs": [],
   "source": [
    "def new_CNN(input_shape):\n",
    "    # backup/trail_1/\n",
    "    # building model\n",
    "    K.set_image_data_format('channels_last')\n",
    "    model = Sequential()\n",
    "\n",
    "    # adding layers\n",
    "    model.add(Conv2D(64, (1, 1), padding=\"same\",input_shape=input_shape, activation='relu'))\n",
    "    model.add(Flatten())\n",
    "    \n",
    "    # 全连接层\n",
    "    model.add(Dense(256, activation='relu',name='FC1'))\n",
    "    model.add(Dropout(0.3))\n",
    "    model.add(Dense(128, activation='relu',name='FC2'))\n",
    "\n",
    "    # prediction layer, using softmax because we are expecting more than two outcomes (DROWSY, FOCUSED, UNFOCUSED)\n",
    "    model.add(Dense(3, activation='softmax'))\n",
    "    \n",
    "    model.summary()\n",
    "    \n",
    "    model.compile(optimizer='adam',loss='categorical_crossentropy',metrics=['accuracy'])\n",
    "\n",
    "    return model"
   ]
  },
  {
   "cell_type": "markdown",
   "metadata": {},
   "source": [
    "### 2.3 SVM"
   ]
  },
  {
   "cell_type": "code",
   "execution_count": 8,
   "metadata": {},
   "outputs": [],
   "source": [
    "from sklearn.model_selection import cross_val_score, KFold\n",
    "from scipy.stats import sem # sem 标准误差平均\n",
    "from sklearn import svm\n",
    "from sklearn import metrics\n",
    "\n",
    "def train_and_evaluate(clf, X_train, X_test, y_train, y_test):\n",
    "    clf.fit(X_train, y_train)             # 训练\n",
    "    \n",
    "    print (\"训练集精度:\")   # 训练集精度\n",
    "    print (clf.score(X_train, y_train))\n",
    "\n",
    "    print (\"\\n测试集精度:\")    # 测试集精度\n",
    "    print (clf.score(X_test, y_test))\n",
    "    \n",
    "    y_pred = clf.predict(X_test)\n",
    "    \n",
    "    print (\"\\n分类识别报告:\")      # 分类识别报告\n",
    "    print (metrics.classification_report(y_test, y_pred))\n",
    "\n",
    "    print (\"\\n混淆矩阵:\")           # 混淆矩阵\n",
    "    print (metrics.confusion_matrix(y_test, y_pred))\n",
    "\n",
    "\n",
    "def evaluate_cross_validation(clf, X, y, K):\n",
    "    # 创建 K-折交叉验证迭代器对象\n",
    "    cv = KFold(K, shuffle=True, random_state=0)\n",
    "    #cv = KFold(len(y), K, shuffle=True, random_state=0)\n",
    "    # 计算返回分数\n",
    "    scores = cross_val_score(clf, X, y, cv=cv)\n",
    "    print (scores)\n",
    "    print ((\"\\n平均值: {0:.3f} (均标准差:+/-{1:.3f})\").\n",
    "           format(\n",
    "               np.mean(scores), # 均值\n",
    "               sem(scores) )    # 均标准差\n",
    "           )\n",
    "\n",
    "#-----------------------------#\n",
    "# 用SVM来搭建预测模型\n",
    "#-----------------------------#\n",
    "clf = svm.SVC(kernel= 'rbf',class_weight='balanced',C = 2.5,gamma=0.07,max_iter=6000,tol=0.001,probability=True)"
   ]
  },
  {
   "cell_type": "code",
   "execution_count": 9,
   "metadata": {},
   "outputs": [],
   "source": [
    "path = '../../EEG Data/Disposed/subject_1.pkl'\n",
    "# X_train,y_train,X_test, y_test = loadData(path)\n",
    "X_train, y_train, X_test, y_test = loadData(path)"
   ]
  },
  {
   "cell_type": "code",
   "execution_count": 10,
   "metadata": {},
   "outputs": [
    {
     "data": {
      "text/plain": [
       "(3672, 7, 79, 1)"
      ]
     },
     "execution_count": 10,
     "metadata": {},
     "output_type": "execute_result"
    }
   ],
   "source": [
    "np.shape(X_train)"
   ]
  },
  {
   "cell_type": "code",
   "execution_count": 20,
   "metadata": {},
   "outputs": [
    {
     "name": "stdout",
     "output_type": "stream",
     "text": [
      "6折交叉验证结果：\n"
     ]
    },
    {
     "name": "stderr",
     "output_type": "stream",
     "text": [
      "D:\\Apps\\Anaconda3\\lib\\site-packages\\sklearn\\svm\\_base.py:246: ConvergenceWarning: Solver terminated early (max_iter=3000).  Consider pre-processing your data with StandardScaler or MinMaxScaler.\n",
      "  warnings.warn('Solver terminated early (max_iter=%i).'\n",
      "D:\\Apps\\Anaconda3\\lib\\site-packages\\sklearn\\svm\\_base.py:246: ConvergenceWarning: Solver terminated early (max_iter=3000).  Consider pre-processing your data with StandardScaler or MinMaxScaler.\n",
      "  warnings.warn('Solver terminated early (max_iter=%i).'\n",
      "D:\\Apps\\Anaconda3\\lib\\site-packages\\sklearn\\svm\\_base.py:246: ConvergenceWarning: Solver terminated early (max_iter=3000).  Consider pre-processing your data with StandardScaler or MinMaxScaler.\n",
      "  warnings.warn('Solver terminated early (max_iter=%i).'\n",
      "D:\\Apps\\Anaconda3\\lib\\site-packages\\sklearn\\svm\\_base.py:246: ConvergenceWarning: Solver terminated early (max_iter=3000).  Consider pre-processing your data with StandardScaler or MinMaxScaler.\n",
      "  warnings.warn('Solver terminated early (max_iter=%i).'\n",
      "D:\\Apps\\Anaconda3\\lib\\site-packages\\sklearn\\svm\\_base.py:246: ConvergenceWarning: Solver terminated early (max_iter=3000).  Consider pre-processing your data with StandardScaler or MinMaxScaler.\n",
      "  warnings.warn('Solver terminated early (max_iter=%i).'\n",
      "D:\\Apps\\Anaconda3\\lib\\site-packages\\sklearn\\svm\\_base.py:246: ConvergenceWarning: Solver terminated early (max_iter=3000).  Consider pre-processing your data with StandardScaler or MinMaxScaler.\n",
      "  warnings.warn('Solver terminated early (max_iter=%i).'\n"
     ]
    },
    {
     "name": "stdout",
     "output_type": "stream",
     "text": [
      "[0.97777778 0.96944444 0.96388889 0.9625     0.98055556 0.97777778]\n",
      "\n",
      "平均值: 0.972 (均标准差:+/-0.003)\n"
     ]
    }
   ],
   "source": [
    "print(\"6折交叉验证结果：\")\n",
    "X,y = loadData(path)\n",
    "clf = svm.SVC(kernel= 'rbf',class_weight='balanced',C = 5,gamma=0.3,max_iter=3000,tol=0.001,probability=True)\n",
    "evaluate_cross_validation(clf, X, y, 6)"
   ]
  },
  {
   "cell_type": "code",
   "execution_count": 16,
   "metadata": {
    "collapsed": true
   },
   "outputs": [
    {
     "name": "stderr",
     "output_type": "stream",
     "text": [
      "D:\\Apps\\Anaconda3\\lib\\site-packages\\sklearn\\svm\\_base.py:246: ConvergenceWarning: Solver terminated early (max_iter=1000).  Consider pre-processing your data with StandardScaler or MinMaxScaler.\n",
      "  warnings.warn('Solver terminated early (max_iter=%i).'\n"
     ]
    },
    {
     "name": "stdout",
     "output_type": "stream",
     "text": [
      "训练集精度:\n",
      "1.0\n",
      "\n",
      "测试集精度:\n",
      "0.9675925925925926\n",
      "\n",
      "分类识别报告:\n",
      "              precision    recall  f1-score   support\n",
      "\n",
      "           0       0.98      0.97      0.97       217\n",
      "           1       0.98      0.96      0.97       215\n",
      "           2       0.95      0.98      0.96       216\n",
      "\n",
      "    accuracy                           0.97       648\n",
      "   macro avg       0.97      0.97      0.97       648\n",
      "weighted avg       0.97      0.97      0.97       648\n",
      "\n",
      "\n",
      "混淆矩阵:\n",
      "[[210   2   5]\n",
      " [  3 206   6]\n",
      " [  2   3 211]]\n"
     ]
    }
   ],
   "source": [
    "clf = svm.SVC(kernel= 'rbf',class_weight='balanced',C = 5,gamma=0.3,max_iter=1000,tol=0.01,probability=True)\n",
    "train_and_evaluate(clf, X_train, X_test, y_train, y_test)"
   ]
  },
  {
   "cell_type": "code",
   "execution_count": 11,
   "metadata": {},
   "outputs": [
    {
     "name": "stdout",
     "output_type": "stream",
     "text": [
      "训练集精度:\n",
      "1.0\n",
      "\n",
      "测试集精度:\n",
      "0.9722222222222222\n",
      "\n",
      "分类识别报告:\n",
      "              precision    recall  f1-score   support\n",
      "\n",
      "           0       0.98      0.98      0.98       217\n",
      "           1       0.98      0.96      0.97       215\n",
      "           2       0.96      0.97      0.97       216\n",
      "\n",
      "    accuracy                           0.97       648\n",
      "   macro avg       0.97      0.97      0.97       648\n",
      "weighted avg       0.97      0.97      0.97       648\n",
      "\n",
      "\n",
      "混淆矩阵:\n",
      "[[213   1   3]\n",
      " [  3 207   5]\n",
      " [  2   4 210]]\n"
     ]
    }
   ],
   "source": [
    "clf = svm.SVC(kernel= 'rbf',class_weight='balanced',C = 5,gamma=0.3,max_iter=2000,tol=0.01,probability=True)\n",
    "train_and_evaluate(clf, X_train, X_test, y_train, y_test)"
   ]
  },
  {
   "cell_type": "code",
   "execution_count": 21,
   "metadata": {
    "collapsed": true
   },
   "outputs": [
    {
     "name": "stdout",
     "output_type": "stream",
     "text": [
      "svc__gamma参数取值：[0.3 1.  5. ]\n",
      "svc__C参数取值：[ 5 10 20]\n",
      "Fitting 3 folds for each of 9 candidates, totalling 27 fits\n",
      "[CV] C=5, gamma=0.3 ..................................................\n"
     ]
    },
    {
     "name": "stderr",
     "output_type": "stream",
     "text": [
      "[Parallel(n_jobs=1)]: Using backend SequentialBackend with 1 concurrent workers.\n",
      "D:\\Apps\\Anaconda3\\lib\\site-packages\\sklearn\\svm\\_base.py:246: ConvergenceWarning: Solver terminated early (max_iter=3000).  Consider pre-processing your data with StandardScaler or MinMaxScaler.\n",
      "  warnings.warn('Solver terminated early (max_iter=%i).'\n"
     ]
    },
    {
     "name": "stdout",
     "output_type": "stream",
     "text": [
      "[CV] ................................... C=5, gamma=0.3, total=  38.7s\n",
      "[CV] C=5, gamma=0.3 ..................................................\n"
     ]
    },
    {
     "name": "stderr",
     "output_type": "stream",
     "text": [
      "[Parallel(n_jobs=1)]: Done   1 out of   1 | elapsed:   38.6s remaining:    0.0s\n",
      "D:\\Apps\\Anaconda3\\lib\\site-packages\\sklearn\\svm\\_base.py:246: ConvergenceWarning: Solver terminated early (max_iter=3000).  Consider pre-processing your data with StandardScaler or MinMaxScaler.\n",
      "  warnings.warn('Solver terminated early (max_iter=%i).'\n"
     ]
    },
    {
     "name": "stdout",
     "output_type": "stream",
     "text": [
      "[CV] ................................... C=5, gamma=0.3, total=  36.5s\n",
      "[CV] C=5, gamma=0.3 ..................................................\n"
     ]
    },
    {
     "name": "stderr",
     "output_type": "stream",
     "text": [
      "D:\\Apps\\Anaconda3\\lib\\site-packages\\sklearn\\svm\\_base.py:246: ConvergenceWarning: Solver terminated early (max_iter=3000).  Consider pre-processing your data with StandardScaler or MinMaxScaler.\n",
      "  warnings.warn('Solver terminated early (max_iter=%i).'\n"
     ]
    },
    {
     "name": "stdout",
     "output_type": "stream",
     "text": [
      "[CV] ................................... C=5, gamma=0.3, total=  37.4s\n",
      "[CV] C=5, gamma=1.0 ..................................................\n"
     ]
    },
    {
     "name": "stderr",
     "output_type": "stream",
     "text": [
      "D:\\Apps\\Anaconda3\\lib\\site-packages\\sklearn\\svm\\_base.py:246: ConvergenceWarning: Solver terminated early (max_iter=3000).  Consider pre-processing your data with StandardScaler or MinMaxScaler.\n",
      "  warnings.warn('Solver terminated early (max_iter=%i).'\n"
     ]
    },
    {
     "name": "stdout",
     "output_type": "stream",
     "text": [
      "[CV] ................................... C=5, gamma=1.0, total=  38.2s\n",
      "[CV] C=5, gamma=1.0 ..................................................\n"
     ]
    },
    {
     "name": "stderr",
     "output_type": "stream",
     "text": [
      "D:\\Apps\\Anaconda3\\lib\\site-packages\\sklearn\\svm\\_base.py:246: ConvergenceWarning: Solver terminated early (max_iter=3000).  Consider pre-processing your data with StandardScaler or MinMaxScaler.\n",
      "  warnings.warn('Solver terminated early (max_iter=%i).'\n"
     ]
    },
    {
     "name": "stdout",
     "output_type": "stream",
     "text": [
      "[CV] ................................... C=5, gamma=1.0, total=  38.5s\n",
      "[CV] C=5, gamma=1.0 ..................................................\n"
     ]
    },
    {
     "name": "stderr",
     "output_type": "stream",
     "text": [
      "D:\\Apps\\Anaconda3\\lib\\site-packages\\sklearn\\svm\\_base.py:246: ConvergenceWarning: Solver terminated early (max_iter=3000).  Consider pre-processing your data with StandardScaler or MinMaxScaler.\n",
      "  warnings.warn('Solver terminated early (max_iter=%i).'\n"
     ]
    },
    {
     "name": "stdout",
     "output_type": "stream",
     "text": [
      "[CV] ................................... C=5, gamma=1.0, total=  37.9s\n",
      "[CV] C=5, gamma=5.0 ..................................................\n"
     ]
    },
    {
     "name": "stderr",
     "output_type": "stream",
     "text": [
      "D:\\Apps\\Anaconda3\\lib\\site-packages\\sklearn\\svm\\_base.py:246: ConvergenceWarning: Solver terminated early (max_iter=3000).  Consider pre-processing your data with StandardScaler or MinMaxScaler.\n",
      "  warnings.warn('Solver terminated early (max_iter=%i).'\n"
     ]
    },
    {
     "name": "stdout",
     "output_type": "stream",
     "text": [
      "[CV] ................................... C=5, gamma=5.0, total=  37.2s\n",
      "[CV] C=5, gamma=5.0 ..................................................\n"
     ]
    },
    {
     "name": "stderr",
     "output_type": "stream",
     "text": [
      "D:\\Apps\\Anaconda3\\lib\\site-packages\\sklearn\\svm\\_base.py:246: ConvergenceWarning: Solver terminated early (max_iter=3000).  Consider pre-processing your data with StandardScaler or MinMaxScaler.\n",
      "  warnings.warn('Solver terminated early (max_iter=%i).'\n"
     ]
    },
    {
     "name": "stdout",
     "output_type": "stream",
     "text": [
      "[CV] ................................... C=5, gamma=5.0, total=  39.6s\n",
      "[CV] C=5, gamma=5.0 ..................................................\n"
     ]
    },
    {
     "name": "stderr",
     "output_type": "stream",
     "text": [
      "D:\\Apps\\Anaconda3\\lib\\site-packages\\sklearn\\svm\\_base.py:246: ConvergenceWarning: Solver terminated early (max_iter=3000).  Consider pre-processing your data with StandardScaler or MinMaxScaler.\n",
      "  warnings.warn('Solver terminated early (max_iter=%i).'\n"
     ]
    },
    {
     "name": "stdout",
     "output_type": "stream",
     "text": [
      "[CV] ................................... C=5, gamma=5.0, total=  37.6s\n",
      "[CV] C=10, gamma=0.3 .................................................\n"
     ]
    },
    {
     "name": "stderr",
     "output_type": "stream",
     "text": [
      "D:\\Apps\\Anaconda3\\lib\\site-packages\\sklearn\\svm\\_base.py:246: ConvergenceWarning: Solver terminated early (max_iter=3000).  Consider pre-processing your data with StandardScaler or MinMaxScaler.\n",
      "  warnings.warn('Solver terminated early (max_iter=%i).'\n"
     ]
    },
    {
     "name": "stdout",
     "output_type": "stream",
     "text": [
      "[CV] .................................. C=10, gamma=0.3, total=  35.6s\n",
      "[CV] C=10, gamma=0.3 .................................................\n"
     ]
    },
    {
     "name": "stderr",
     "output_type": "stream",
     "text": [
      "D:\\Apps\\Anaconda3\\lib\\site-packages\\sklearn\\svm\\_base.py:246: ConvergenceWarning: Solver terminated early (max_iter=3000).  Consider pre-processing your data with StandardScaler or MinMaxScaler.\n",
      "  warnings.warn('Solver terminated early (max_iter=%i).'\n"
     ]
    },
    {
     "name": "stdout",
     "output_type": "stream",
     "text": [
      "[CV] .................................. C=10, gamma=0.3, total=  37.7s\n",
      "[CV] C=10, gamma=0.3 .................................................\n"
     ]
    },
    {
     "name": "stderr",
     "output_type": "stream",
     "text": [
      "D:\\Apps\\Anaconda3\\lib\\site-packages\\sklearn\\svm\\_base.py:246: ConvergenceWarning: Solver terminated early (max_iter=3000).  Consider pre-processing your data with StandardScaler or MinMaxScaler.\n",
      "  warnings.warn('Solver terminated early (max_iter=%i).'\n"
     ]
    },
    {
     "name": "stdout",
     "output_type": "stream",
     "text": [
      "[CV] .................................. C=10, gamma=0.3, total=  37.0s\n",
      "[CV] C=10, gamma=1.0 .................................................\n"
     ]
    },
    {
     "name": "stderr",
     "output_type": "stream",
     "text": [
      "D:\\Apps\\Anaconda3\\lib\\site-packages\\sklearn\\svm\\_base.py:246: ConvergenceWarning: Solver terminated early (max_iter=3000).  Consider pre-processing your data with StandardScaler or MinMaxScaler.\n",
      "  warnings.warn('Solver terminated early (max_iter=%i).'\n"
     ]
    },
    {
     "name": "stdout",
     "output_type": "stream",
     "text": [
      "[CV] .................................. C=10, gamma=1.0, total=  40.5s\n",
      "[CV] C=10, gamma=1.0 .................................................\n"
     ]
    },
    {
     "name": "stderr",
     "output_type": "stream",
     "text": [
      "D:\\Apps\\Anaconda3\\lib\\site-packages\\sklearn\\svm\\_base.py:246: ConvergenceWarning: Solver terminated early (max_iter=3000).  Consider pre-processing your data with StandardScaler or MinMaxScaler.\n",
      "  warnings.warn('Solver terminated early (max_iter=%i).'\n"
     ]
    },
    {
     "name": "stdout",
     "output_type": "stream",
     "text": [
      "[CV] .................................. C=10, gamma=1.0, total=  36.1s\n",
      "[CV] C=10, gamma=1.0 .................................................\n"
     ]
    },
    {
     "name": "stderr",
     "output_type": "stream",
     "text": [
      "D:\\Apps\\Anaconda3\\lib\\site-packages\\sklearn\\svm\\_base.py:246: ConvergenceWarning: Solver terminated early (max_iter=3000).  Consider pre-processing your data with StandardScaler or MinMaxScaler.\n",
      "  warnings.warn('Solver terminated early (max_iter=%i).'\n"
     ]
    },
    {
     "name": "stdout",
     "output_type": "stream",
     "text": [
      "[CV] .................................. C=10, gamma=1.0, total=  38.2s\n",
      "[CV] C=10, gamma=5.0 .................................................\n"
     ]
    },
    {
     "name": "stderr",
     "output_type": "stream",
     "text": [
      "D:\\Apps\\Anaconda3\\lib\\site-packages\\sklearn\\svm\\_base.py:246: ConvergenceWarning: Solver terminated early (max_iter=3000).  Consider pre-processing your data with StandardScaler or MinMaxScaler.\n",
      "  warnings.warn('Solver terminated early (max_iter=%i).'\n"
     ]
    },
    {
     "name": "stdout",
     "output_type": "stream",
     "text": [
      "[CV] .................................. C=10, gamma=5.0, total=  41.5s\n",
      "[CV] C=10, gamma=5.0 .................................................\n"
     ]
    },
    {
     "name": "stderr",
     "output_type": "stream",
     "text": [
      "D:\\Apps\\Anaconda3\\lib\\site-packages\\sklearn\\svm\\_base.py:246: ConvergenceWarning: Solver terminated early (max_iter=3000).  Consider pre-processing your data with StandardScaler or MinMaxScaler.\n",
      "  warnings.warn('Solver terminated early (max_iter=%i).'\n"
     ]
    },
    {
     "name": "stdout",
     "output_type": "stream",
     "text": [
      "[CV] .................................. C=10, gamma=5.0, total=  36.5s\n",
      "[CV] C=10, gamma=5.0 .................................................\n"
     ]
    },
    {
     "name": "stderr",
     "output_type": "stream",
     "text": [
      "D:\\Apps\\Anaconda3\\lib\\site-packages\\sklearn\\svm\\_base.py:246: ConvergenceWarning: Solver terminated early (max_iter=3000).  Consider pre-processing your data with StandardScaler or MinMaxScaler.\n",
      "  warnings.warn('Solver terminated early (max_iter=%i).'\n"
     ]
    },
    {
     "name": "stdout",
     "output_type": "stream",
     "text": [
      "[CV] .................................. C=10, gamma=5.0, total=  35.0s\n",
      "[CV] C=20, gamma=0.3 .................................................\n"
     ]
    },
    {
     "name": "stderr",
     "output_type": "stream",
     "text": [
      "D:\\Apps\\Anaconda3\\lib\\site-packages\\sklearn\\svm\\_base.py:246: ConvergenceWarning: Solver terminated early (max_iter=3000).  Consider pre-processing your data with StandardScaler or MinMaxScaler.\n",
      "  warnings.warn('Solver terminated early (max_iter=%i).'\n"
     ]
    },
    {
     "name": "stdout",
     "output_type": "stream",
     "text": [
      "[CV] .................................. C=20, gamma=0.3, total=  33.8s\n",
      "[CV] C=20, gamma=0.3 .................................................\n"
     ]
    },
    {
     "name": "stderr",
     "output_type": "stream",
     "text": [
      "D:\\Apps\\Anaconda3\\lib\\site-packages\\sklearn\\svm\\_base.py:246: ConvergenceWarning: Solver terminated early (max_iter=3000).  Consider pre-processing your data with StandardScaler or MinMaxScaler.\n",
      "  warnings.warn('Solver terminated early (max_iter=%i).'\n"
     ]
    },
    {
     "name": "stdout",
     "output_type": "stream",
     "text": [
      "[CV] .................................. C=20, gamma=0.3, total=  34.3s\n",
      "[CV] C=20, gamma=0.3 .................................................\n"
     ]
    },
    {
     "name": "stderr",
     "output_type": "stream",
     "text": [
      "D:\\Apps\\Anaconda3\\lib\\site-packages\\sklearn\\svm\\_base.py:246: ConvergenceWarning: Solver terminated early (max_iter=3000).  Consider pre-processing your data with StandardScaler or MinMaxScaler.\n",
      "  warnings.warn('Solver terminated early (max_iter=%i).'\n"
     ]
    },
    {
     "name": "stdout",
     "output_type": "stream",
     "text": [
      "[CV] .................................. C=20, gamma=0.3, total=  34.1s\n",
      "[CV] C=20, gamma=1.0 .................................................\n"
     ]
    },
    {
     "name": "stderr",
     "output_type": "stream",
     "text": [
      "D:\\Apps\\Anaconda3\\lib\\site-packages\\sklearn\\svm\\_base.py:246: ConvergenceWarning: Solver terminated early (max_iter=3000).  Consider pre-processing your data with StandardScaler or MinMaxScaler.\n",
      "  warnings.warn('Solver terminated early (max_iter=%i).'\n"
     ]
    },
    {
     "name": "stdout",
     "output_type": "stream",
     "text": [
      "[CV] .................................. C=20, gamma=1.0, total=  35.2s\n",
      "[CV] C=20, gamma=1.0 .................................................\n"
     ]
    },
    {
     "name": "stderr",
     "output_type": "stream",
     "text": [
      "D:\\Apps\\Anaconda3\\lib\\site-packages\\sklearn\\svm\\_base.py:246: ConvergenceWarning: Solver terminated early (max_iter=3000).  Consider pre-processing your data with StandardScaler or MinMaxScaler.\n",
      "  warnings.warn('Solver terminated early (max_iter=%i).'\n"
     ]
    },
    {
     "name": "stdout",
     "output_type": "stream",
     "text": [
      "[CV] .................................. C=20, gamma=1.0, total=  35.7s\n",
      "[CV] C=20, gamma=1.0 .................................................\n"
     ]
    },
    {
     "name": "stderr",
     "output_type": "stream",
     "text": [
      "D:\\Apps\\Anaconda3\\lib\\site-packages\\sklearn\\svm\\_base.py:246: ConvergenceWarning: Solver terminated early (max_iter=3000).  Consider pre-processing your data with StandardScaler or MinMaxScaler.\n",
      "  warnings.warn('Solver terminated early (max_iter=%i).'\n"
     ]
    },
    {
     "name": "stdout",
     "output_type": "stream",
     "text": [
      "[CV] .................................. C=20, gamma=1.0, total=  37.8s\n",
      "[CV] C=20, gamma=5.0 .................................................\n"
     ]
    },
    {
     "name": "stderr",
     "output_type": "stream",
     "text": [
      "D:\\Apps\\Anaconda3\\lib\\site-packages\\sklearn\\svm\\_base.py:246: ConvergenceWarning: Solver terminated early (max_iter=3000).  Consider pre-processing your data with StandardScaler or MinMaxScaler.\n",
      "  warnings.warn('Solver terminated early (max_iter=%i).'\n"
     ]
    },
    {
     "name": "stdout",
     "output_type": "stream",
     "text": [
      "[CV] .................................. C=20, gamma=5.0, total=  37.7s\n",
      "[CV] C=20, gamma=5.0 .................................................\n"
     ]
    },
    {
     "name": "stderr",
     "output_type": "stream",
     "text": [
      "D:\\Apps\\Anaconda3\\lib\\site-packages\\sklearn\\svm\\_base.py:246: ConvergenceWarning: Solver terminated early (max_iter=3000).  Consider pre-processing your data with StandardScaler or MinMaxScaler.\n",
      "  warnings.warn('Solver terminated early (max_iter=%i).'\n"
     ]
    },
    {
     "name": "stdout",
     "output_type": "stream",
     "text": [
      "[CV] .................................. C=20, gamma=5.0, total=  38.2s\n",
      "[CV] C=20, gamma=5.0 .................................................\n"
     ]
    },
    {
     "name": "stderr",
     "output_type": "stream",
     "text": [
      "D:\\Apps\\Anaconda3\\lib\\site-packages\\sklearn\\svm\\_base.py:246: ConvergenceWarning: Solver terminated early (max_iter=3000).  Consider pre-processing your data with StandardScaler or MinMaxScaler.\n",
      "  warnings.warn('Solver terminated early (max_iter=%i).'\n"
     ]
    },
    {
     "name": "stdout",
     "output_type": "stream",
     "text": [
      "[CV] .................................. C=20, gamma=5.0, total=  36.2s\n",
      "Wall time: 16min 42s\n"
     ]
    },
    {
     "name": "stderr",
     "output_type": "stream",
     "text": [
      "[Parallel(n_jobs=1)]: Done  27 out of  27 | elapsed: 16.7min finished\n"
     ]
    },
    {
     "data": {
      "text/plain": [
       "({'C': 5, 'gamma': 0.3}, 0.955787037037037)"
      ]
     },
     "execution_count": 21,
     "metadata": {},
     "output_type": "execute_result"
    }
   ],
   "source": [
    "# 网格搜索\n",
    "from sklearn.model_selection  import GridSearchCV\n",
    "\n",
    "C_list = np.array([5,10,20])   #np.arange(1,5,1.5)\n",
    "gamma_list = np.array([0.3,1,5])  #np.arange(0.05,0.15,0.02)\n",
    "parameters = {\n",
    "   'gamma': gamma_list,\n",
    "   'C': C_list\n",
    "}\n",
    "print(\"svc__gamma参数取值：\"+str(gamma_list))\n",
    "print(\"svc__C参数取值：\"+str(C_list))\n",
    "\n",
    "clf = svm.SVC(kernel= 'rbf',class_weight='balanced',C = 5,gamma=0.3,max_iter=3000,tol=0.001,probability=True)\n",
    "gs = GridSearchCV(clf, parameters, verbose=2, refit=False, cv=3)\n",
    "%time _ = gs.fit(X, y)\n",
    "gs.best_params_, gs.best_score_"
   ]
  },
  {
   "cell_type": "code",
   "execution_count": null,
   "metadata": {},
   "outputs": [],
   "source": []
  },
  {
   "cell_type": "markdown",
   "metadata": {},
   "source": [
    "# 3 可视化"
   ]
  },
  {
   "cell_type": "code",
   "execution_count": 12,
   "metadata": {},
   "outputs": [],
   "source": [
    "class LossHistory(keras.callbacks.Callback):\n",
    "    def on_train_begin(self, logs={}):\n",
    "        self.losses = {'batch':[], 'epoch':[]}\n",
    "        self.accuracy = {'batch':[], 'epoch':[]}\n",
    "        self.val_loss = {'batch':[], 'epoch':[]}\n",
    "        self.val_accuracy = {'batch':[], 'epoch':[]}\n",
    "\n",
    "    def on_batch_end(self, batch, logs={}):\n",
    "        self.losses['batch'].append(logs.get('loss'))\n",
    "        self.accuracy['batch'].append(logs.get('accuracy'))\n",
    "        self.val_loss['batch'].append(logs.get('val_loss'))\n",
    "        self.val_accuracy['batch'].append(logs.get('val_accuracy'))\n",
    "\n",
    "    def on_epoch_end(self, batch, logs={}):\n",
    "        self.losses['epoch'].append(logs.get('loss'))\n",
    "        self.accuracy['epoch'].append(logs.get('accuracy'))\n",
    "        self.val_loss['epoch'].append(logs.get('val_loss'))\n",
    "        self.val_accuracy['epoch'].append(logs.get('val_accuracy'))\n",
    "\n",
    "    def loss_plot(self, loss_type):\n",
    "        iters = range(len(self.losses[loss_type]))\n",
    "        plt.figure(figsize=(13,8))\n",
    "        # acc\n",
    "        plt.plot(iters, self.accuracy[loss_type], 'r', label='train acc')\n",
    "        # loss\n",
    "        plt.plot(iters, self.losses[loss_type], 'g', label='train loss')\n",
    "        if loss_type == 'epoch':\n",
    "            # val_acc\n",
    "            plt.plot(iters, self.val_accuracy[loss_type], 'b', label='val acc')\n",
    "            # val_loss\n",
    "            plt.plot(iters, self.val_loss[loss_type], 'k', label='val loss')\n",
    "        plt.grid(True)\n",
    "        plt.xlabel(loss_type,fontsize=20)\n",
    "        plt.ylabel('acc-loss',fontsize=20)\n",
    "        plt.xticks(fontsize=15)\n",
    "        plt.yticks(fontsize=15)\n",
    "        plt.legend(loc=\"upper right\",fontsize=15)\n",
    "        plt.show()"
   ]
  },
  {
   "cell_type": "markdown",
   "metadata": {},
   "source": [
    "# 4 附件"
   ]
  },
  {
   "cell_type": "markdown",
   "metadata": {},
   "source": [
    "### 4.1 学习率调整"
   ]
  },
  {
   "cell_type": "code",
   "execution_count": 13,
   "metadata": {},
   "outputs": [],
   "source": [
    "def scheduler(epoch):\n",
    "    # 每隔100个epoch，学习率减小为原来的1/2\n",
    "    if epoch == 0:\n",
    "        K.set_value(model.optimizer.lr, 4e-4)\n",
    "    if epoch % 30 == 0 and epoch != 0:\n",
    "        lr = K.get_value(model.optimizer.lr)\n",
    "        K.set_value(model.optimizer.lr, lr * 0.5)\n",
    "        print(\"lr changed to {}\".format(lr * 0.5))\n",
    "    return K.get_value(model.optimizer.lr)"
   ]
  },
  {
   "cell_type": "markdown",
   "metadata": {},
   "source": [
    "### 4.2 注意力机制"
   ]
  },
  {
   "cell_type": "code",
   "execution_count": 14,
   "metadata": {},
   "outputs": [],
   "source": [
    "def attention_3d_block(inputs, TIME_STEPS):\n",
    "    # inputs.shape = (batch_size, time_steps, lstm_units)\n",
    "    # (batch_size, time_steps, lstm_units) -> (batch_size, lstm_units, time_steps)\n",
    "    a = Permute((2, 1))(inputs)\n",
    "\n",
    "    # 对最后一维进行全连接\n",
    "    # (batch_size, lstm_units, time_steps) -> (batch_size, lstm_units, time_steps)\n",
    "    a = Dense(TIME_STEPS, activation='softmax')(a)\n",
    "\n",
    "    # (batch_size, lstm_units, time_steps) -> (batch_size, time_steps, lstm_units)\n",
    "    a_probs = Permute((2, 1), name='attention_vec')(a)\n",
    "\n",
    "    # 相乘\n",
    "    # 相当于获得每一个step中，每个维度在所有step中的权重\n",
    "    output_attention_mul = concatenate([inputs, a_probs], axis=1)\n",
    "    return output_attention_mul"
   ]
  },
  {
   "cell_type": "markdown",
   "metadata": {},
   "source": [
    "### 4.3 生成器\n",
    " - 可以自定义处理train和val的数据\n",
    " - 数据量很大时，可以用此方法分块从磁盘读取"
   ]
  },
  {
   "cell_type": "code",
   "execution_count": 34,
   "metadata": {},
   "outputs": [],
   "source": [
    "def xs_gen(data_X,data_y,steps, batch_size = 210,train=True):\n",
    "    \n",
    "    per = np.random.permutation(data_X.shape[0]) #打乱后的行号\n",
    "    data_X = data_X[per, :, :] #获取打乱后的训练数据\n",
    "    data_y = data_y[per]\n",
    "    \n",
    "    split_size = int(0.15*len(data_X))\n",
    "    \n",
    "    if train:\n",
    "        data_X = data_X[split_size:]\n",
    "        data_y = data_y[split_size:]\n",
    "    else:\n",
    "        data_X = data_X[:split_size]\n",
    "        data_y = data_y[:split_size]\n",
    "    while True:\n",
    "        for i in range(steps):\n",
    "            batch_X = data_X[i * batch_size : i * batch_size + batch_size]\n",
    "            batch_y = data_y[i * batch_size : i * batch_size + batch_size]\n",
    "            yield batch_X, batch_y"
   ]
  },
  {
   "cell_type": "markdown",
   "metadata": {},
   "source": [
    "# 5 训练"
   ]
  },
  {
   "cell_type": "markdown",
   "metadata": {},
   "source": [
    "### 5.1 常规训练 ( .fit() )"
   ]
  },
  {
   "cell_type": "code",
   "execution_count": 13,
   "metadata": {
    "collapsed": true
   },
   "outputs": [
    {
     "name": "stdout",
     "output_type": "stream",
     "text": [
      "Model: \"model_2\"\n",
      "_________________________________________________________________\n",
      "Layer (type)                 Output Shape              Param #   \n",
      "=================================================================\n",
      "input_3 (InputLayer)         [(None, 7, 79)]           0         \n",
      "_________________________________________________________________\n",
      "lstm_4 (LSTM)                (None, 7, 768)            2605056   \n",
      "_________________________________________________________________\n",
      "lstm_5 (LSTM)                (None, 256)               1049600   \n",
      "_________________________________________________________________\n",
      "dense_2 (Dense)              (None, 3)                 771       \n",
      "=================================================================\n",
      "Total params: 3,655,427\n",
      "Trainable params: 3,655,427\n",
      "Non-trainable params: 0\n",
      "_________________________________________________________________\n",
      "Train on 714 samples, validate on 126 samples\n",
      "Epoch 1/100\n",
      "714/714 [==============================] - 1s 2ms/sample - loss: 1.1016 - accuracy: 0.3221 - val_loss: 1.0882 - val_accuracy: 0.3889\n",
      "Epoch 2/100\n",
      "714/714 [==============================] - 1s 1ms/sample - loss: 1.0831 - accuracy: 0.4258 - val_loss: 1.0848 - val_accuracy: 0.3730\n",
      "Epoch 3/100\n",
      "714/714 [==============================] - 1s 1ms/sample - loss: 1.0663 - accuracy: 0.4244 - val_loss: 1.0641 - val_accuracy: 0.3968\n",
      "Epoch 4/100\n",
      "714/714 [==============================] - 1s 1ms/sample - loss: 1.0385 - accuracy: 0.4888 - val_loss: 1.0418 - val_accuracy: 0.4603\n",
      "Epoch 5/100\n",
      "714/714 [==============================] - 1s 1ms/sample - loss: 1.0002 - accuracy: 0.5252 - val_loss: 1.0324 - val_accuracy: 0.4444\n",
      "Epoch 6/100\n",
      "714/714 [==============================] - 1s 1ms/sample - loss: 0.9746 - accuracy: 0.5182 - val_loss: 1.0228 - val_accuracy: 0.4286\n",
      "Epoch 7/100\n",
      "714/714 [==============================] - 1s 1ms/sample - loss: 0.9273 - accuracy: 0.5532 - val_loss: 0.9897 - val_accuracy: 0.5079\n",
      "Epoch 8/100\n",
      "714/714 [==============================] - 1s 1ms/sample - loss: 0.9087 - accuracy: 0.5588 - val_loss: 1.0455 - val_accuracy: 0.5079\n",
      "Epoch 9/100\n",
      "714/714 [==============================] - 1s 1ms/sample - loss: 0.8811 - accuracy: 0.5630 - val_loss: 0.9510 - val_accuracy: 0.5159\n",
      "Epoch 10/100\n",
      "714/714 [==============================] - 1s 1ms/sample - loss: 0.8263 - accuracy: 0.6275 - val_loss: 0.9433 - val_accuracy: 0.5238\n",
      "Epoch 11/100\n",
      "714/714 [==============================] - 1s 2ms/sample - loss: 0.8057 - accuracy: 0.6373 - val_loss: 0.8824 - val_accuracy: 0.5794\n",
      "Epoch 12/100\n",
      "714/714 [==============================] - 1s 2ms/sample - loss: 0.7413 - accuracy: 0.6737 - val_loss: 0.8883 - val_accuracy: 0.5873\n",
      "Epoch 13/100\n",
      "714/714 [==============================] - 1s 2ms/sample - loss: 0.6961 - accuracy: 0.6961 - val_loss: 0.9035 - val_accuracy: 0.6032\n",
      "Epoch 14/100\n",
      "714/714 [==============================] - 2s 2ms/sample - loss: 0.6765 - accuracy: 0.6961 - val_loss: 0.9868 - val_accuracy: 0.5317\n",
      "Epoch 15/100\n",
      "714/714 [==============================] - 1s 2ms/sample - loss: 0.6528 - accuracy: 0.7227 - val_loss: 0.8497 - val_accuracy: 0.5952\n",
      "Epoch 16/100\n",
      "714/714 [==============================] - 2s 2ms/sample - loss: 0.6577 - accuracy: 0.7045 - val_loss: 0.7979 - val_accuracy: 0.6270\n",
      "Epoch 17/100\n",
      "714/714 [==============================] - 2s 2ms/sample - loss: 0.5974 - accuracy: 0.7465 - val_loss: 0.9139 - val_accuracy: 0.5714\n",
      "Epoch 18/100\n",
      "714/714 [==============================] - 2s 2ms/sample - loss: 0.5795 - accuracy: 0.7493 - val_loss: 0.8598 - val_accuracy: 0.6587\n",
      "Epoch 19/100\n",
      "714/714 [==============================] - 2s 2ms/sample - loss: 0.5733 - accuracy: 0.7647 - val_loss: 0.9528 - val_accuracy: 0.6190\n",
      "Epoch 20/100\n",
      "714/714 [==============================] - 1s 2ms/sample - loss: 0.5154 - accuracy: 0.8109 - val_loss: 0.8701 - val_accuracy: 0.6508\n",
      "Epoch 21/100\n",
      "714/714 [==============================] - 1s 2ms/sample - loss: 0.4647 - accuracy: 0.8067 - val_loss: 0.8709 - val_accuracy: 0.6746\n",
      "Epoch 22/100\n",
      "714/714 [==============================] - 1s 2ms/sample - loss: 0.4530 - accuracy: 0.8193 - val_loss: 0.8410 - val_accuracy: 0.6825\n",
      "Epoch 23/100\n",
      "714/714 [==============================] - 1s 2ms/sample - loss: 0.4882 - accuracy: 0.7955 - val_loss: 0.9133 - val_accuracy: 0.6587\n",
      "Epoch 24/100\n",
      "714/714 [==============================] - 1s 2ms/sample - loss: 0.4353 - accuracy: 0.8137 - val_loss: 0.9947 - val_accuracy: 0.6032\n",
      "Epoch 25/100\n",
      "714/714 [==============================] - 1s 2ms/sample - loss: 0.4247 - accuracy: 0.8333 - val_loss: 0.9311 - val_accuracy: 0.6508\n",
      "Epoch 26/100\n",
      "714/714 [==============================] - 1s 2ms/sample - loss: 0.3760 - accuracy: 0.8473 - val_loss: 0.8802 - val_accuracy: 0.6984\n",
      "Epoch 27/100\n",
      "714/714 [==============================] - 1s 2ms/sample - loss: 0.3584 - accuracy: 0.8473 - val_loss: 1.0119 - val_accuracy: 0.7063\n",
      "Epoch 28/100\n",
      "714/714 [==============================] - 1s 2ms/sample - loss: 0.3215 - accuracy: 0.8669 - val_loss: 1.2133 - val_accuracy: 0.6825\n",
      "Epoch 29/100\n",
      "714/714 [==============================] - 1s 2ms/sample - loss: 0.3240 - accuracy: 0.8641 - val_loss: 1.1686 - val_accuracy: 0.6508\n",
      "Epoch 30/100\n",
      "714/714 [==============================] - 1s 2ms/sample - loss: 0.3418 - accuracy: 0.8613 - val_loss: 1.0300 - val_accuracy: 0.6825\n",
      "lr changed to 0.00027999999292660505\n",
      "Epoch 31/100\n",
      "714/714 [==============================] - 1s 2ms/sample - loss: 0.2893 - accuracy: 0.8754 - val_loss: 0.9968 - val_accuracy: 0.7143\n",
      "Epoch 32/100\n",
      "714/714 [==============================] - 1s 2ms/sample - loss: 0.2483 - accuracy: 0.9090 - val_loss: 1.0518 - val_accuracy: 0.7381\n",
      "Epoch 33/100\n",
      "714/714 [==============================] - 2s 2ms/sample - loss: 0.2478 - accuracy: 0.9076 - val_loss: 1.2200 - val_accuracy: 0.6984\n",
      "Epoch 34/100\n",
      "714/714 [==============================] - 2s 2ms/sample - loss: 0.2075 - accuracy: 0.9146 - val_loss: 1.0965 - val_accuracy: 0.7540\n",
      "Epoch 35/100\n",
      "714/714 [==============================] - 2s 2ms/sample - loss: 0.1985 - accuracy: 0.9174 - val_loss: 1.2142 - val_accuracy: 0.7143\n",
      "Epoch 36/100\n",
      "714/714 [==============================] - 1s 2ms/sample - loss: 0.1762 - accuracy: 0.9272 - val_loss: 1.3195 - val_accuracy: 0.6984\n",
      "Epoch 37/100\n",
      "714/714 [==============================] - 1s 2ms/sample - loss: 0.1503 - accuracy: 0.9440 - val_loss: 1.3952 - val_accuracy: 0.7222\n",
      "Epoch 38/100\n",
      "714/714 [==============================] - 1s 2ms/sample - loss: 0.1353 - accuracy: 0.9510 - val_loss: 1.3078 - val_accuracy: 0.7381\n",
      "Epoch 39/100\n",
      "714/714 [==============================] - 1s 2ms/sample - loss: 0.1496 - accuracy: 0.9412 - val_loss: 1.2902 - val_accuracy: 0.7460\n",
      "Epoch 40/100\n",
      "714/714 [==============================] - 1s 2ms/sample - loss: 0.1969 - accuracy: 0.9216 - val_loss: 1.4463 - val_accuracy: 0.6984\n",
      "Epoch 41/100\n",
      "714/714 [==============================] - 1s 2ms/sample - loss: 0.1569 - accuracy: 0.9426 - val_loss: 1.2491 - val_accuracy: 0.7460\n",
      "Epoch 42/100\n",
      "714/714 [==============================] - 1s 2ms/sample - loss: 0.1440 - accuracy: 0.9496 - val_loss: 1.1583 - val_accuracy: 0.7302\n",
      "Epoch 43/100\n",
      "714/714 [==============================] - 1s 2ms/sample - loss: 0.1065 - accuracy: 0.9678 - val_loss: 1.2937 - val_accuracy: 0.7460\n",
      "Epoch 44/100\n",
      "714/714 [==============================] - 1s 2ms/sample - loss: 0.0948 - accuracy: 0.9650 - val_loss: 1.4130 - val_accuracy: 0.7381\n",
      "Epoch 45/100\n",
      "714/714 [==============================] - 1s 2ms/sample - loss: 0.0813 - accuracy: 0.9762 - val_loss: 1.5041 - val_accuracy: 0.7143\n",
      "Epoch 46/100\n",
      "714/714 [==============================] - 1s 2ms/sample - loss: 0.0999 - accuracy: 0.9622 - val_loss: 1.5179 - val_accuracy: 0.7302\n",
      "Epoch 47/100\n",
      "714/714 [==============================] - 1s 2ms/sample - loss: 0.0723 - accuracy: 0.9734 - val_loss: 1.5079 - val_accuracy: 0.7222\n",
      "Epoch 48/100\n",
      "714/714 [==============================] - 1s 2ms/sample - loss: 0.0604 - accuracy: 0.9846 - val_loss: 1.6168 - val_accuracy: 0.7302\n",
      "Epoch 49/100\n",
      "714/714 [==============================] - 1s 2ms/sample - loss: 0.0728 - accuracy: 0.9776 - val_loss: 1.6032 - val_accuracy: 0.7063\n",
      "Epoch 50/100\n",
      "714/714 [==============================] - 1s 2ms/sample - loss: 0.1014 - accuracy: 0.9608 - val_loss: 1.6391 - val_accuracy: 0.7540\n",
      "Epoch 51/100\n",
      "714/714 [==============================] - 2s 2ms/sample - loss: 0.0816 - accuracy: 0.9734 - val_loss: 1.5393 - val_accuracy: 0.7540\n",
      "Epoch 52/100\n",
      "714/714 [==============================] - 1s 2ms/sample - loss: 0.0813 - accuracy: 0.9790 - val_loss: 1.5532 - val_accuracy: 0.7302\n",
      "Epoch 53/100\n",
      "714/714 [==============================] - 2s 2ms/sample - loss: 0.0683 - accuracy: 0.9762 - val_loss: 1.6330 - val_accuracy: 0.7222\n",
      "Epoch 54/100\n",
      "714/714 [==============================] - 2s 2ms/sample - loss: 0.0836 - accuracy: 0.9776 - val_loss: 1.6171 - val_accuracy: 0.7460\n",
      "Epoch 55/100\n",
      "714/714 [==============================] - 1s 2ms/sample - loss: 0.2331 - accuracy: 0.9314 - val_loss: 1.6577 - val_accuracy: 0.6984\n",
      "Epoch 56/100\n",
      "714/714 [==============================] - 1s 2ms/sample - loss: 0.1996 - accuracy: 0.9258 - val_loss: 1.2856 - val_accuracy: 0.7063\n",
      "Epoch 57/100\n",
      "714/714 [==============================] - 1s 2ms/sample - loss: 0.2057 - accuracy: 0.9286 - val_loss: 1.1320 - val_accuracy: 0.7381\n",
      "Epoch 58/100\n",
      "714/714 [==============================] - 1s 2ms/sample - loss: 0.1853 - accuracy: 0.9300 - val_loss: 1.0541 - val_accuracy: 0.7381\n",
      "Epoch 59/100\n",
      "714/714 [==============================] - 1s 2ms/sample - loss: 0.1256 - accuracy: 0.9622 - val_loss: 1.1329 - val_accuracy: 0.7460\n",
      "Epoch 60/100\n",
      "714/714 [==============================] - 1s 2ms/sample - loss: 0.1016 - accuracy: 0.9678 - val_loss: 1.1330 - val_accuracy: 0.7619\n",
      "lr changed to 0.00019599998486228285\n",
      "Epoch 61/100\n",
      "714/714 [==============================] - 1s 2ms/sample - loss: 0.0724 - accuracy: 0.9818 - val_loss: 1.2911 - val_accuracy: 0.7460\n",
      "Epoch 62/100\n",
      "714/714 [==============================] - 1s 2ms/sample - loss: 0.0539 - accuracy: 0.9874 - val_loss: 1.2377 - val_accuracy: 0.7540\n",
      "Epoch 63/100\n",
      "714/714 [==============================] - 1s 2ms/sample - loss: 0.0435 - accuracy: 0.9902 - val_loss: 1.3507 - val_accuracy: 0.7302\n",
      "Epoch 64/100\n",
      "714/714 [==============================] - 1s 2ms/sample - loss: 0.0321 - accuracy: 0.9944 - val_loss: 1.3419 - val_accuracy: 0.7698\n",
      "Epoch 65/100\n",
      "714/714 [==============================] - 1s 2ms/sample - loss: 0.0268 - accuracy: 0.9958 - val_loss: 1.4436 - val_accuracy: 0.7619\n",
      "Epoch 66/100\n",
      "714/714 [==============================] - 1s 2ms/sample - loss: 0.0226 - accuracy: 0.9958 - val_loss: 1.4736 - val_accuracy: 0.7698\n",
      "Epoch 67/100\n",
      "714/714 [==============================] - 1s 2ms/sample - loss: 0.0176 - accuracy: 0.9958 - val_loss: 1.5094 - val_accuracy: 0.7698\n",
      "Epoch 68/100\n",
      "714/714 [==============================] - 1s 2ms/sample - loss: 0.0161 - accuracy: 0.9986 - val_loss: 1.5569 - val_accuracy: 0.7698\n",
      "Epoch 69/100\n",
      "714/714 [==============================] - 1s 2ms/sample - loss: 0.0138 - accuracy: 0.9986 - val_loss: 1.5597 - val_accuracy: 0.7698\n",
      "Epoch 70/100\n",
      "714/714 [==============================] - 1s 2ms/sample - loss: 0.0120 - accuracy: 0.9986 - val_loss: 1.6175 - val_accuracy: 0.7698\n",
      "Epoch 71/100\n",
      "714/714 [==============================] - 1s 2ms/sample - loss: 0.0110 - accuracy: 1.0000 - val_loss: 1.6084 - val_accuracy: 0.7698\n",
      "Epoch 72/100\n",
      "714/714 [==============================] - 1s 2ms/sample - loss: 0.0099 - accuracy: 1.0000 - val_loss: 1.6178 - val_accuracy: 0.7698\n",
      "Epoch 73/100\n",
      "714/714 [==============================] - 1s 2ms/sample - loss: 0.0089 - accuracy: 1.0000 - val_loss: 1.6332 - val_accuracy: 0.7698\n",
      "Epoch 74/100\n",
      "714/714 [==============================] - 1s 2ms/sample - loss: 0.0081 - accuracy: 1.0000 - val_loss: 1.6566 - val_accuracy: 0.7540\n",
      "Epoch 75/100\n",
      "714/714 [==============================] - 1s 2ms/sample - loss: 0.0079 - accuracy: 1.0000 - val_loss: 1.6765 - val_accuracy: 0.7698\n",
      "Epoch 76/100\n",
      "714/714 [==============================] - 1s 2ms/sample - loss: 0.0069 - accuracy: 1.0000 - val_loss: 1.6649 - val_accuracy: 0.7619\n",
      "Epoch 77/100\n",
      "714/714 [==============================] - 1s 2ms/sample - loss: 0.0065 - accuracy: 1.0000 - val_loss: 1.6845 - val_accuracy: 0.7698\n",
      "Epoch 78/100\n",
      "714/714 [==============================] - 1s 2ms/sample - loss: 0.0060 - accuracy: 1.0000 - val_loss: 1.7141 - val_accuracy: 0.7540\n",
      "Epoch 79/100\n",
      "714/714 [==============================] - 1s 2ms/sample - loss: 0.0053 - accuracy: 1.0000 - val_loss: 1.7103 - val_accuracy: 0.7698\n",
      "Epoch 80/100\n",
      "714/714 [==============================] - 1s 2ms/sample - loss: 0.0050 - accuracy: 1.0000 - val_loss: 1.7184 - val_accuracy: 0.7698\n",
      "Epoch 81/100\n",
      "714/714 [==============================] - 1s 2ms/sample - loss: 0.0047 - accuracy: 1.0000 - val_loss: 1.7242 - val_accuracy: 0.7778\n",
      "Epoch 82/100\n",
      "714/714 [==============================] - 1s 2ms/sample - loss: 0.0045 - accuracy: 1.0000 - val_loss: 1.7251 - val_accuracy: 0.7857\n",
      "Epoch 83/100\n",
      "714/714 [==============================] - 1s 2ms/sample - loss: 0.0043 - accuracy: 1.0000 - val_loss: 1.7410 - val_accuracy: 0.7698\n",
      "Epoch 84/100\n",
      "714/714 [==============================] - 1s 2ms/sample - loss: 0.0040 - accuracy: 1.0000 - val_loss: 1.7407 - val_accuracy: 0.7778\n",
      "Epoch 85/100\n",
      "714/714 [==============================] - 1s 2ms/sample - loss: 0.0038 - accuracy: 1.0000 - val_loss: 1.7693 - val_accuracy: 0.7778\n",
      "Epoch 86/100\n",
      "714/714 [==============================] - 1s 2ms/sample - loss: 0.0036 - accuracy: 1.0000 - val_loss: 1.7666 - val_accuracy: 0.7778\n",
      "Epoch 87/100\n",
      "714/714 [==============================] - 1s 2ms/sample - loss: 0.0034 - accuracy: 1.0000 - val_loss: 1.7632 - val_accuracy: 0.7778\n",
      "Epoch 88/100\n",
      "714/714 [==============================] - 1s 2ms/sample - loss: 0.0034 - accuracy: 1.0000 - val_loss: 1.7890 - val_accuracy: 0.7778\n",
      "Epoch 89/100\n",
      "714/714 [==============================] - 1s 2ms/sample - loss: 0.0032 - accuracy: 1.0000 - val_loss: 1.7725 - val_accuracy: 0.7857\n",
      "Epoch 90/100\n",
      "714/714 [==============================] - 1s 2ms/sample - loss: 0.0030 - accuracy: 1.0000 - val_loss: 1.8099 - val_accuracy: 0.7778\n",
      "lr changed to 0.00013719998532906174\n",
      "Epoch 91/100\n",
      "714/714 [==============================] - 1s 2ms/sample - loss: 0.0030 - accuracy: 1.0000 - val_loss: 1.8013 - val_accuracy: 0.7778\n",
      "Epoch 92/100\n",
      "714/714 [==============================] - 1s 2ms/sample - loss: 0.0029 - accuracy: 1.0000 - val_loss: 1.7908 - val_accuracy: 0.7857\n",
      "Epoch 93/100\n",
      "714/714 [==============================] - 1s 2ms/sample - loss: 0.0027 - accuracy: 1.0000 - val_loss: 1.8097 - val_accuracy: 0.7778\n",
      "Epoch 94/100\n",
      "714/714 [==============================] - 1s 2ms/sample - loss: 0.0027 - accuracy: 1.0000 - val_loss: 1.8151 - val_accuracy: 0.7857\n",
      "Epoch 95/100\n",
      "714/714 [==============================] - 1s 2ms/sample - loss: 0.0026 - accuracy: 1.0000 - val_loss: 1.8097 - val_accuracy: 0.7857\n",
      "Epoch 96/100\n",
      "714/714 [==============================] - 1s 2ms/sample - loss: 0.0025 - accuracy: 1.0000 - val_loss: 1.8105 - val_accuracy: 0.7778\n",
      "Epoch 97/100\n",
      "714/714 [==============================] - 1s 2ms/sample - loss: 0.0025 - accuracy: 1.0000 - val_loss: 1.8263 - val_accuracy: 0.7778\n",
      "Epoch 98/100\n",
      "714/714 [==============================] - 1s 2ms/sample - loss: 0.0024 - accuracy: 1.0000 - val_loss: 1.8287 - val_accuracy: 0.7778\n",
      "Epoch 99/100\n",
      "714/714 [==============================] - 1s 2ms/sample - loss: 0.0023 - accuracy: 1.0000 - val_loss: 1.8268 - val_accuracy: 0.7778\n",
      "Epoch 100/100\n",
      "714/714 [==============================] - 1s 2ms/sample - loss: 0.0023 - accuracy: 1.0000 - val_loss: 1.8330 - val_accuracy: 0.7778\n"
     ]
    },
    {
     "data": {
      "image/png": "[encoded data removed]",
      "text/plain": [
       "<Figure size 936x576 with 1 Axes>"
      ]
     },
     "metadata": {
      "needs_background": "light"
     },
     "output_type": "display_data"
    }
   ],
   "source": [
    "history = LossHistory()\n",
    "path = '../../EEG Data/Disposed/subject_1.pkl'\n",
    "X,y,X_test, y_test = loadData(path)\n",
    "input_shape = np.shape(X)[1:]\n",
    "model = DoubleLSTM(input_shape)\n",
    "lr_new = LearningRateScheduler(scheduler)\n",
    "\n",
    "size = np.shape(X)[0]\n",
    "steps = 6\n",
    "batch_size = size // steps\n",
    "\n",
    "model.fit(X, y,\n",
    "            batch_size=batch_size, epochs=100,\n",
    "            verbose=1,\n",
    "            validation_data=(X_test, y_test),\n",
    "            #validation_split=0.15,\n",
    "            shuffle = True,\n",
    "            callbacks=[lr_new, history])\n",
    "\n",
    "history.loss_plot('epoch')"
   ]
  },
  {
   "cell_type": "markdown",
   "metadata": {},
   "source": [
    "### 5.2 训练CNN"
   ]
  },
  {
   "cell_type": "code",
   "execution_count": null,
   "metadata": {
    "scrolled": false
   },
   "outputs": [
    {
     "name": "stdout",
     "output_type": "stream",
     "text": [
      "Model: \"sequential\"\n",
      "_________________________________________________________________\n",
      "Layer (type)                 Output Shape              Param #   \n",
      "=================================================================\n",
      "conv2d (Conv2D)              (None, 7, 79, 64)         320       \n",
      "_________________________________________________________________\n",
      "max_pooling2d (MaxPooling2D) (None, 7, 39, 64)         0         \n",
      "_________________________________________________________________\n",
      "conv2d_1 (Conv2D)            (None, 7, 39, 128)        32896     \n",
      "_________________________________________________________________\n",
      "max_pooling2d_1 (MaxPooling2 (None, 7, 19, 128)        0         \n",
      "_________________________________________________________________\n",
      "flatten (Flatten)            (None, 17024)             0         \n",
      "_________________________________________________________________\n",
      "FC1 (Dense)                  (None, 128)               2179200   \n",
      "_________________________________________________________________\n",
      "dropout (Dropout)            (None, 128)               0         \n",
      "_________________________________________________________________\n",
      "FC2 (Dense)                  (None, 64)                8256      \n",
      "_________________________________________________________________\n",
      "dropout_1 (Dropout)          (None, 64)                0         \n",
      "_________________________________________________________________\n",
      "dense (Dense)                (None, 3)                 195       \n",
      "=================================================================\n",
      "Total params: 2,220,867\n",
      "Trainable params: 2,220,867\n",
      "Non-trainable params: 0\n",
      "_________________________________________________________________\n",
      "Train on 3672 samples, validate on 648 samples\n",
      "Epoch 1/100\n",
      "3672/3672 [==============================] - 2s 551us/sample - loss: 1.0821 - accuracy: 0.4039 - val_loss: 1.0427 - val_accuracy: 0.4645\n",
      "Epoch 2/100\n"
     ]
    },
    {
     "name": "stderr",
     "output_type": "stream",
     "text": [
      "D:\\Apps\\Anaconda3\\lib\\site-packages\\keras\\engine\\training.py:2401: UserWarning: `Model.state_updates` will be removed in a future version. This property should not be used in TensorFlow 2.0, as `updates` are applied automatically.\n",
      "  warnings.warn('`Model.state_updates` will be removed in a future version. '\n"
     ]
    },
    {
     "name": "stdout",
     "output_type": "stream",
     "text": [
      "3672/3672 [==============================] - 2s 502us/sample - loss: 1.0337 - accuracy: 0.4638 - val_loss: 1.0192 - val_accuracy: 0.4475\n",
      "Epoch 3/100\n",
      "3672/3672 [==============================] - 2s 504us/sample - loss: 1.0119 - accuracy: 0.4807 - val_loss: 0.9862 - val_accuracy: 0.5478\n",
      "Epoch 4/100\n",
      "3672/3672 [==============================] - 2s 650us/sample - loss: 0.9797 - accuracy: 0.5218 - val_loss: 0.9596 - val_accuracy: 0.5278\n",
      "Epoch 5/100\n",
      "1835/3672 [=============>................] - ETA: 1s - loss: 0.9700 - accuracy: 0.5302"
     ]
    }
   ],
   "source": [
    "history = LossHistory()\n",
    "path = '../../EEG Data/Disposed/subject_1.pkl'\n",
    "X,y,X_test, y_test = loadData(path)\n",
    "input_shape = np.shape(X)[1:]\n",
    "model = CNN(input_shape)\n",
    "lr_new = LearningRateScheduler(scheduler)\n",
    "\n",
    "size = np.shape(X)[0]\n",
    "steps = 10\n",
    "batch_size = size // steps\n",
    "\n",
    "model.fit(X, y,\n",
    "            batch_size=batch_size, epochs=100,\n",
    "            verbose=1,\n",
    "            validation_data=(X_test, y_test),\n",
    "            #validation_split=0.15,\n",
    "            shuffle = True,\n",
    "            callbacks=[lr_new,history])\n",
    "\n",
    "history.loss_plot('epoch')"
   ]
  },
  {
   "cell_type": "code",
   "execution_count": 31,
   "metadata": {},
   "outputs": [],
   "source": [
    "# CNN+SVM\n",
    "\n",
    "# 获取全连接层的输出\n",
    "\n",
    "FC_output = Model(inputs=model.input,outputs=model.get_layer('FC2').output)"
   ]
  },
  {
   "cell_type": "code",
   "execution_count": 45,
   "metadata": {},
   "outputs": [],
   "source": [
    "X_tmp = FC_output.predict(X)\n",
    "X_test_tmp = FC_output.predict(X_test)\n",
    "y_tmp = np.array([np.argmax(i) for i in y])\n",
    "y_test_tmp = np.array([np.argmax(i) for i in y_test])"
   ]
  },
  {
   "cell_type": "code",
   "execution_count": 50,
   "metadata": {
    "collapsed": true
   },
   "outputs": [
    {
     "name": "stdout",
     "output_type": "stream",
     "text": [
      "训练集精度:\n",
      "1.0\n",
      "\n",
      "测试集精度:\n",
      "0.7936507936507936\n",
      "\n",
      "分类识别报告:\n",
      "              precision    recall  f1-score   support\n",
      "\n",
      "           0       0.92      0.81      0.86        42\n",
      "           1       0.82      0.77      0.80        53\n",
      "           2       0.64      0.81      0.71        31\n",
      "\n",
      "    accuracy                           0.79       126\n",
      "   macro avg       0.79      0.80      0.79       126\n",
      "weighted avg       0.81      0.79      0.80       126\n",
      "\n",
      "\n",
      "混淆矩阵:\n",
      "[[34  3  5]\n",
      " [ 3 41  9]\n",
      " [ 0  6 25]]\n"
     ]
    }
   ],
   "source": [
    "clf = svm.SVC(kernel= 'rbf',class_weight='balanced',C = 2.5,gamma=0.07,max_iter=6000,tol=0.001,probability=True)\n",
    "train_and_evaluate(clf, X_tmp, X_test_tmp, y_tmp, y_test_tmp)"
   ]
  },
  {
   "cell_type": "code",
   "execution_count": null,
   "metadata": {},
   "outputs": [],
   "source": []
  },
  {
   "cell_type": "markdown",
   "metadata": {},
   "source": [
    "### 5.2 生成器方法训练 ( .fit_generator() )"
   ]
  },
  {
   "cell_type": "code",
   "execution_count": 115,
   "metadata": {
    "collapsed": true
   },
   "outputs": [
    {
     "name": "stdout",
     "output_type": "stream",
     "text": [
      "Model: \"sequential_32\"\n",
      "_________________________________________________________________\n",
      "Layer (type)                 Output Shape              Param #   \n",
      "=================================================================\n",
      "lstm_64 (LSTM)               (None, 7, 600)            1632000   \n",
      "_________________________________________________________________\n",
      "lstm_65 (LSTM)               (None, 300)               1081200   \n",
      "_________________________________________________________________\n",
      "dense_32 (Dense)             (None, 3)                 903       \n",
      "=================================================================\n",
      "Total params: 2,714,103\n",
      "Trainable params: 2,714,103\n",
      "Non-trainable params: 0\n",
      "_________________________________________________________________\n",
      "Epoch 1/100\n",
      "4/4 [==============================] - 4s 336ms/step - loss: 1.0988 - accuracy: 0.3656 - val_loss: 1.0860 - val_accuracy: 0.4200\n",
      "Epoch 2/100\n",
      "4/4 [==============================] - 0s 119ms/step - loss: 1.0835 - accuracy: 0.4273 - val_loss: 1.0733 - val_accuracy: 0.4200\n",
      "Epoch 3/100\n",
      "4/4 [==============================] - 0s 116ms/step - loss: 1.0689 - accuracy: 0.4345 - val_loss: 1.0587 - val_accuracy: 0.4700\n",
      "Epoch 4/100\n",
      "4/4 [==============================] - 0s 121ms/step - loss: 1.0470 - accuracy: 0.5232 - val_loss: 1.0306 - val_accuracy: 0.4700\n",
      "Epoch 5/100\n",
      "4/4 [==============================] - 0s 124ms/step - loss: 1.0222 - accuracy: 0.5149 - val_loss: 1.0048 - val_accuracy: 0.5000\n",
      "Epoch 6/100\n",
      "4/4 [==============================] - 0s 118ms/step - loss: 0.9838 - accuracy: 0.5601 - val_loss: 0.9667 - val_accuracy: 0.5400\n",
      "Epoch 7/100\n",
      "4/4 [==============================] - 0s 118ms/step - loss: 0.9470 - accuracy: 0.5672 - val_loss: 0.9412 - val_accuracy: 0.5400\n",
      "Epoch 8/100\n",
      "4/4 [==============================] - 1s 127ms/step - loss: 0.9116 - accuracy: 0.5848 - val_loss: 0.9224 - val_accuracy: 0.5700\n",
      "Epoch 9/100\n",
      "4/4 [==============================] - 0s 121ms/step - loss: 0.8923 - accuracy: 0.5862 - val_loss: 0.8804 - val_accuracy: 0.6000\n",
      "Epoch 10/100\n",
      "4/4 [==============================] - 0s 121ms/step - loss: 0.8599 - accuracy: 0.5962 - val_loss: 0.8123 - val_accuracy: 0.6100\n",
      "Epoch 11/100\n",
      "4/4 [==============================] - 0s 124ms/step - loss: 0.8056 - accuracy: 0.6412 - val_loss: 0.7786 - val_accuracy: 0.6400\n",
      "Epoch 12/100\n",
      "4/4 [==============================] - 1s 122ms/step - loss: 0.7903 - accuracy: 0.6581 - val_loss: 0.8030 - val_accuracy: 0.6500\n",
      "Epoch 13/100\n",
      "4/4 [==============================] - 1s 128ms/step - loss: 0.8001 - accuracy: 0.6337 - val_loss: 0.7621 - val_accuracy: 0.6700\n",
      "Epoch 14/100\n",
      "4/4 [==============================] - 0s 119ms/step - loss: 0.7529 - accuracy: 0.6594 - val_loss: 0.7982 - val_accuracy: 0.6500\n",
      "Epoch 15/100\n",
      "4/4 [==============================] - 0s 119ms/step - loss: 0.7329 - accuracy: 0.6571 - val_loss: 0.7523 - val_accuracy: 0.6800\n",
      "Epoch 16/100\n",
      "4/4 [==============================] - 1s 210ms/step - loss: 0.7321 - accuracy: 0.6634 - val_loss: 0.6616 - val_accuracy: 0.7000\n",
      "Epoch 17/100\n",
      "4/4 [==============================] - 1s 227ms/step - loss: 0.7070 - accuracy: 0.7010 - val_loss: 0.7708 - val_accuracy: 0.6700\n",
      "Epoch 18/100\n",
      "4/4 [==============================] - 1s 228ms/step - loss: 0.7365 - accuracy: 0.6894 - val_loss: 0.6248 - val_accuracy: 0.7700\n",
      "Epoch 19/100\n",
      "4/4 [==============================] - 1s 208ms/step - loss: 0.6392 - accuracy: 0.7223 - val_loss: 0.5997 - val_accuracy: 0.7700\n",
      "Epoch 20/100\n",
      "4/4 [==============================] - 1s 217ms/step - loss: 0.6143 - accuracy: 0.7619 - val_loss: 0.6137 - val_accuracy: 0.7100\n",
      "Epoch 21/100\n",
      "4/4 [==============================] - 1s 224ms/step - loss: 0.6110 - accuracy: 0.7356 - val_loss: 0.5470 - val_accuracy: 0.7900\n",
      "Epoch 22/100\n",
      "4/4 [==============================] - 1s 219ms/step - loss: 0.5575 - accuracy: 0.7749 - val_loss: 0.5265 - val_accuracy: 0.7900\n",
      "Epoch 23/100\n",
      "4/4 [==============================] - 1s 209ms/step - loss: 0.5424 - accuracy: 0.7648 - val_loss: 0.6004 - val_accuracy: 0.7100\n",
      "Epoch 24/100\n",
      "4/4 [==============================] - 1s 208ms/step - loss: 0.5779 - accuracy: 0.7548 - val_loss: 0.6648 - val_accuracy: 0.6700\n",
      "Epoch 25/100\n",
      "4/4 [==============================] - 1s 215ms/step - loss: 0.5883 - accuracy: 0.7329 - val_loss: 0.4950 - val_accuracy: 0.8500\n",
      "Epoch 26/100\n",
      "4/4 [==============================] - 1s 221ms/step - loss: 0.5112 - accuracy: 0.7680 - val_loss: 0.5577 - val_accuracy: 0.8000\n",
      "Epoch 27/100\n",
      "4/4 [==============================] - 1s 208ms/step - loss: 0.5314 - accuracy: 0.7945 - val_loss: 0.5433 - val_accuracy: 0.8100\n",
      "Epoch 28/100\n",
      "4/4 [==============================] - 1s 207ms/step - loss: 0.5811 - accuracy: 0.7506 - val_loss: 0.5059 - val_accuracy: 0.7600\n",
      "Epoch 29/100\n",
      "4/4 [==============================] - 1s 212ms/step - loss: 0.5466 - accuracy: 0.7797 - val_loss: 0.4655 - val_accuracy: 0.8400\n",
      "Epoch 30/100\n",
      "4/4 [==============================] - 1s 213ms/step - loss: 0.4995 - accuracy: 0.7882 - val_loss: 0.4460 - val_accuracy: 0.8600\n",
      "Epoch 31/100\n",
      "lr changed to 0.00035000001662410796\n",
      "4/4 [==============================] - 1s 197ms/step - loss: 0.4608 - accuracy: 0.8291 - val_loss: 0.4166 - val_accuracy: 0.8600\n",
      "Epoch 32/100\n",
      "4/4 [==============================] - 1s 203ms/step - loss: 0.4324 - accuracy: 0.8152 - val_loss: 0.3757 - val_accuracy: 0.9100\n",
      "Epoch 33/100\n",
      "4/4 [==============================] - 1s 205ms/step - loss: 0.3965 - accuracy: 0.8520 - val_loss: 0.3607 - val_accuracy: 0.8900\n",
      "Epoch 34/100\n",
      "4/4 [==============================] - 1s 211ms/step - loss: 0.3681 - accuracy: 0.8480 - val_loss: 0.3434 - val_accuracy: 0.8900\n",
      "Epoch 35/100\n",
      "4/4 [==============================] - 1s 203ms/step - loss: 0.3426 - accuracy: 0.8675 - val_loss: 0.3415 - val_accuracy: 0.9000\n",
      "Epoch 36/100\n",
      "4/4 [==============================] - 1s 203ms/step - loss: 0.3320 - accuracy: 0.8600 - val_loss: 0.3309 - val_accuracy: 0.8800\n",
      "Epoch 37/100\n",
      "4/4 [==============================] - 1s 213ms/step - loss: 0.3067 - accuracy: 0.8756 - val_loss: 0.3310 - val_accuracy: 0.8900\n",
      "Epoch 38/100\n",
      "4/4 [==============================] - 1s 206ms/step - loss: 0.3021 - accuracy: 0.8823 - val_loss: 0.3430 - val_accuracy: 0.9000\n",
      "Epoch 39/100\n",
      "4/4 [==============================] - 1s 202ms/step - loss: 0.2980 - accuracy: 0.8812 - val_loss: 0.3966 - val_accuracy: 0.8700\n",
      "Epoch 40/100\n",
      "4/4 [==============================] - 1s 195ms/step - loss: 0.3103 - accuracy: 0.8755 - val_loss: 0.4206 - val_accuracy: 0.8400\n",
      "Epoch 41/100\n",
      "4/4 [==============================] - 1s 209ms/step - loss: 0.3108 - accuracy: 0.8721 - val_loss: 0.3202 - val_accuracy: 0.9000\n",
      "Epoch 42/100\n",
      "4/4 [==============================] - 1s 198ms/step - loss: 0.2692 - accuracy: 0.8810 - val_loss: 0.3384 - val_accuracy: 0.8700\n",
      "Epoch 43/100\n",
      "4/4 [==============================] - 1s 190ms/step - loss: 0.2696 - accuracy: 0.8861 - val_loss: 0.3529 - val_accuracy: 0.9000\n",
      "Epoch 44/100\n",
      "4/4 [==============================] - 1s 201ms/step - loss: 0.3023 - accuracy: 0.8802 - val_loss: 0.2981 - val_accuracy: 0.9100\n",
      "Epoch 45/100\n",
      "4/4 [==============================] - 1s 205ms/step - loss: 0.2695 - accuracy: 0.8904 - val_loss: 0.2984 - val_accuracy: 0.9100\n",
      "Epoch 46/100\n",
      "4/4 [==============================] - 1s 202ms/step - loss: 0.2688 - accuracy: 0.8926 - val_loss: 0.2936 - val_accuracy: 0.9100\n",
      "Epoch 47/100\n",
      "4/4 [==============================] - 1s 205ms/step - loss: 0.2461 - accuracy: 0.9033 - val_loss: 0.3724 - val_accuracy: 0.8700\n",
      "Epoch 48/100\n",
      "4/4 [==============================] - 1s 200ms/step - loss: 0.2504 - accuracy: 0.8991 - val_loss: 0.3014 - val_accuracy: 0.9200\n",
      "Epoch 49/100\n",
      "4/4 [==============================] - 1s 199ms/step - loss: 0.2317 - accuracy: 0.9176 - val_loss: 0.3104 - val_accuracy: 0.8900\n",
      "Epoch 50/100\n",
      "4/4 [==============================] - 1s 197ms/step - loss: 0.2233 - accuracy: 0.9049 - val_loss: 0.2920 - val_accuracy: 0.9200\n",
      "Epoch 51/100\n",
      "4/4 [==============================] - 1s 198ms/step - loss: 0.1900 - accuracy: 0.9329 - val_loss: 0.3066 - val_accuracy: 0.9000\n",
      "Epoch 52/100\n",
      "4/4 [==============================] - 1s 188ms/step - loss: 0.1892 - accuracy: 0.9355 - val_loss: 0.2991 - val_accuracy: 0.9300\n",
      "Epoch 53/100\n",
      "4/4 [==============================] - 1s 202ms/step - loss: 0.1735 - accuracy: 0.9540 - val_loss: 0.3103 - val_accuracy: 0.9200\n",
      "Epoch 54/100\n",
      "4/4 [==============================] - 1s 222ms/step - loss: 0.1695 - accuracy: 0.9452 - val_loss: 0.3081 - val_accuracy: 0.9400\n",
      "Epoch 55/100\n",
      "4/4 [==============================] - 1s 217ms/step - loss: 0.1583 - accuracy: 0.9465 - val_loss: 0.3020 - val_accuracy: 0.9500\n",
      "Epoch 56/100\n",
      "4/4 [==============================] - 1s 198ms/step - loss: 0.1487 - accuracy: 0.9487 - val_loss: 0.3001 - val_accuracy: 0.9400\n",
      "Epoch 57/100\n",
      "4/4 [==============================] - 1s 209ms/step - loss: 0.1378 - accuracy: 0.9630 - val_loss: 0.3285 - val_accuracy: 0.9300\n",
      "Epoch 58/100\n",
      "4/4 [==============================] - 1s 202ms/step - loss: 0.1368 - accuracy: 0.9671 - val_loss: 0.3505 - val_accuracy: 0.9200\n",
      "Epoch 59/100\n",
      "4/4 [==============================] - 1s 222ms/step - loss: 0.1360 - accuracy: 0.9717 - val_loss: 0.3219 - val_accuracy: 0.9300\n",
      "Epoch 60/100\n",
      "4/4 [==============================] - 1s 195ms/step - loss: 0.1273 - accuracy: 0.9692 - val_loss: 0.3097 - val_accuracy: 0.9500\n",
      "Epoch 61/100\n",
      "lr changed to 0.00024500001163687554\n",
      "4/4 [==============================] - 1s 204ms/step - loss: 0.1246 - accuracy: 0.9561 - val_loss: 0.4382 - val_accuracy: 0.8900\n",
      "Epoch 62/100\n",
      "4/4 [==============================] - 1s 207ms/step - loss: 0.1823 - accuracy: 0.9240 - val_loss: 0.2972 - val_accuracy: 0.9600\n",
      "Epoch 63/100\n",
      "4/4 [==============================] - 1s 231ms/step - loss: 0.1237 - accuracy: 0.9631 - val_loss: 0.3887 - val_accuracy: 0.9000\n",
      "Epoch 64/100\n",
      "4/4 [==============================] - 1s 212ms/step - loss: 0.1470 - accuracy: 0.9504 - val_loss: 0.3562 - val_accuracy: 0.9200\n",
      "Epoch 65/100\n",
      "4/4 [==============================] - 1s 196ms/step - loss: 0.1364 - accuracy: 0.9511 - val_loss: 0.3185 - val_accuracy: 0.9400\n",
      "Epoch 66/100\n",
      "4/4 [==============================] - 1s 212ms/step - loss: 0.1029 - accuracy: 0.9727 - val_loss: 0.3089 - val_accuracy: 0.9600\n",
      "Epoch 67/100\n",
      "4/4 [==============================] - 1s 230ms/step - loss: 0.0977 - accuracy: 0.9699 - val_loss: 0.3008 - val_accuracy: 0.9600\n",
      "Epoch 68/100\n",
      "4/4 [==============================] - 1s 235ms/step - loss: 0.0919 - accuracy: 0.9716 - val_loss: 0.2982 - val_accuracy: 0.9600\n",
      "Epoch 69/100\n",
      "4/4 [==============================] - 1s 221ms/step - loss: 0.0851 - accuracy: 0.9755 - val_loss: 0.3187 - val_accuracy: 0.9500\n",
      "Epoch 70/100\n",
      "4/4 [==============================] - 1s 229ms/step - loss: 0.0829 - accuracy: 0.9795 - val_loss: 0.3218 - val_accuracy: 0.9600\n",
      "Epoch 71/100\n",
      "4/4 [==============================] - 1s 233ms/step - loss: 0.0788 - accuracy: 0.9766 - val_loss: 0.3359 - val_accuracy: 0.9500\n",
      "Epoch 72/100\n",
      "4/4 [==============================] - 1s 225ms/step - loss: 0.0736 - accuracy: 0.9795 - val_loss: 0.3291 - val_accuracy: 0.9500\n",
      "Epoch 73/100\n",
      "4/4 [==============================] - 1s 206ms/step - loss: 0.0704 - accuracy: 0.9795 - val_loss: 0.3365 - val_accuracy: 0.9500\n",
      "Epoch 74/100\n",
      "4/4 [==============================] - 1s 224ms/step - loss: 0.0668 - accuracy: 0.9829 - val_loss: 0.3344 - val_accuracy: 0.9600\n",
      "Epoch 75/100\n",
      "4/4 [==============================] - 1s 223ms/step - loss: 0.0645 - accuracy: 0.9829 - val_loss: 0.3422 - val_accuracy: 0.9500\n",
      "Epoch 76/100\n",
      "4/4 [==============================] - 1s 217ms/step - loss: 0.0601 - accuracy: 0.9858 - val_loss: 0.3486 - val_accuracy: 0.9600\n",
      "Epoch 77/100\n",
      "4/4 [==============================] - 1s 211ms/step - loss: 0.0598 - accuracy: 0.9858 - val_loss: 0.3585 - val_accuracy: 0.9500\n",
      "Epoch 78/100\n",
      "4/4 [==============================] - 1s 203ms/step - loss: 0.0556 - accuracy: 0.9869 - val_loss: 0.3523 - val_accuracy: 0.9500\n",
      "Epoch 79/100\n",
      "4/4 [==============================] - 1s 199ms/step - loss: 0.0540 - accuracy: 0.9914 - val_loss: 0.3672 - val_accuracy: 0.9500\n",
      "Epoch 80/100\n",
      "4/4 [==============================] - 1s 195ms/step - loss: 0.0503 - accuracy: 0.9886 - val_loss: 0.3630 - val_accuracy: 0.9600\n",
      "Epoch 81/100\n",
      "4/4 [==============================] - 1s 200ms/step - loss: 0.0501 - accuracy: 0.9914 - val_loss: 0.3726 - val_accuracy: 0.9500\n",
      "Epoch 82/100\n",
      "4/4 [==============================] - 1s 193ms/step - loss: 0.0454 - accuracy: 0.9925 - val_loss: 0.3670 - val_accuracy: 0.9600\n",
      "Epoch 83/100\n",
      "4/4 [==============================] - 1s 200ms/step - loss: 0.0439 - accuracy: 0.9943 - val_loss: 0.3824 - val_accuracy: 0.9500\n",
      "Epoch 84/100\n",
      "4/4 [==============================] - 1s 208ms/step - loss: 0.0406 - accuracy: 0.9954 - val_loss: 0.3753 - val_accuracy: 0.9600\n",
      "Epoch 85/100\n",
      "4/4 [==============================] - 1s 205ms/step - loss: 0.0402 - accuracy: 0.9954 - val_loss: 0.3884 - val_accuracy: 0.9500\n",
      "Epoch 86/100\n",
      "4/4 [==============================] - 1s 208ms/step - loss: 0.0362 - accuracy: 0.9954 - val_loss: 0.3829 - val_accuracy: 0.9600\n",
      "Epoch 87/100\n",
      "4/4 [==============================] - 1s 208ms/step - loss: 0.0356 - accuracy: 0.9954 - val_loss: 0.4005 - val_accuracy: 0.9500\n",
      "Epoch 88/100\n",
      "4/4 [==============================] - 1s 195ms/step - loss: 0.0321 - accuracy: 0.9954 - val_loss: 0.3901 - val_accuracy: 0.9600\n",
      "Epoch 89/100\n",
      "4/4 [==============================] - 1s 195ms/step - loss: 0.0317 - accuracy: 0.9954 - val_loss: 0.4072 - val_accuracy: 0.9500\n",
      "Epoch 90/100\n",
      "4/4 [==============================] - 1s 193ms/step - loss: 0.0278 - accuracy: 0.9954 - val_loss: 0.3996 - val_accuracy: 0.9500\n",
      "Epoch 91/100\n",
      "lr changed to 0.00017150000203400848\n",
      "4/4 [==============================] - 1s 206ms/step - loss: 0.0269 - accuracy: 0.9954 - val_loss: 0.4211 - val_accuracy: 0.9500\n",
      "Epoch 92/100\n",
      "4/4 [==============================] - 1s 213ms/step - loss: 0.0252 - accuracy: 0.9954 - val_loss: 0.4068 - val_accuracy: 0.9600\n",
      "Epoch 93/100\n",
      "4/4 [==============================] - 1s 193ms/step - loss: 0.0279 - accuracy: 0.9954 - val_loss: 0.4535 - val_accuracy: 0.9400\n",
      "Epoch 94/100\n",
      "4/4 [==============================] - 1s 195ms/step - loss: 0.0275 - accuracy: 0.9954 - val_loss: 0.4139 - val_accuracy: 0.9600\n",
      "Epoch 95/100\n",
      "4/4 [==============================] - 1s 200ms/step - loss: 0.0268 - accuracy: 0.9954 - val_loss: 0.4553 - val_accuracy: 0.9500\n",
      "Epoch 96/100\n",
      "4/4 [==============================] - 1s 208ms/step - loss: 0.0234 - accuracy: 0.9971 - val_loss: 0.4408 - val_accuracy: 0.9500\n",
      "Epoch 97/100\n",
      "4/4 [==============================] - 1s 190ms/step - loss: 0.0339 - accuracy: 0.9925 - val_loss: 0.4746 - val_accuracy: 0.9300\n",
      "Epoch 98/100\n",
      "4/4 [==============================] - 1s 199ms/step - loss: 0.0249 - accuracy: 0.9971 - val_loss: 0.4271 - val_accuracy: 0.9500\n",
      "Epoch 99/100\n",
      "4/4 [==============================] - 1s 209ms/step - loss: 0.0240 - accuracy: 0.9971 - val_loss: 0.5111 - val_accuracy: 0.9400\n",
      "Epoch 100/100\n",
      "4/4 [==============================] - 1s 203ms/step - loss: 0.0277 - accuracy: 0.9942 - val_loss: 0.4623 - val_accuracy: 0.9400\n"
     ]
    },
    {
     "data": {
      "image/png": "[encoded data removed]",
      "text/plain": [
       "<Figure size 936x576 with 1 Axes>"
      ]
     },
     "metadata": {
      "needs_background": "light"
     },
     "output_type": "display_data"
    },
    {
     "name": "stdout",
     "output_type": "stream",
     "text": [
      "6/6 [==============================] - 1s 23ms/step - loss: 2.3782 - accuracy: 0.7381\n",
      "Test score: 2.378248929977417\n",
      "Test accuracy: 0.738095223903656\n"
     ]
    }
   ],
   "source": [
    "history = LossHistory()\n",
    "path = '../../EEG Data/Disposed/subject_1.pkl'\n",
    "X,y,X_test, y_test = loadData(path)\n",
    "input_shape = np.shape(X)[1:]\n",
    "model = DoubleLSTM(input_shape)\n",
    "lr_new = LearningRateScheduler(scheduler)\n",
    "\n",
    "Batch_size = 168\n",
    "steps = 4\n",
    "size = np.shape(X)[0]\n",
    "\n",
    "train_iter = xs_gen(X,y,steps,batch_size=Batch_size, train=True)\n",
    "test_iter = xs_gen(X,y,steps,batch_size=Batch_size, train=False)\n",
    "\n",
    "\n",
    "# model.fit(X, y,\n",
    "#             batch_size=210, epochs=100,\n",
    "#             verbose=1,\n",
    "#             validation_split=0.15,\n",
    "#             shuffle = True,\n",
    "#             callbacks=[lr_new, history])\n",
    "\n",
    "\n",
    "\n",
    "\n",
    "model.fit_generator(\n",
    "        generator=train_iter,\n",
    "        steps_per_epoch=steps,\n",
    "        epochs=100,\n",
    "        initial_epoch=0,\n",
    "        validation_data = test_iter,\n",
    "        validation_steps = steps,\n",
    "        callbacks=[lr_new, history]\n",
    "        )\n",
    "\n",
    "#绘制acc-loss曲线\n",
    "history.loss_plot('epoch')\n",
    "\n",
    "#模型评估\n",
    "score = model.evaluate(X_test, y_test, verbose=1)\n",
    "print('Test score:', score[0])\n",
    "print('Test accuracy:', score[1])\n"
   ]
  },
  {
   "cell_type": "code",
   "execution_count": null,
   "metadata": {},
   "outputs": [],
   "source": []
  },
  {
   "cell_type": "code",
   "execution_count": null,
   "metadata": {},
   "outputs": [],
   "source": []
  },
  {
   "cell_type": "code",
   "execution_count": null,
   "metadata": {},
   "outputs": [],
   "source": [
    "if __name__ == '__main__':\n",
    "    # 如果没有cuda加速，取消注释\n",
    "    #os.environ[\"CUDA_DEVICE_ORDER\"] = \"PCI_BUS_ID\"  # see issue #152\n",
    "    #os.environ[\"CUDA_VISIBLE_DEVICES\"] = \"\"\n",
    "\n",
    "    # 导入数据\n",
    "    path = '../../EEG Data/Disposed/subject_2.pkl'\n",
    "    X_train, X_test, y_train, y_test = loadData(path, seconds = 2)\n",
    "\n",
    "    print(\"X_train维度：\" + str(np.shape(X_train)))\n",
    "    print(\"y_train维度：\" + str(np.shape(y_train)))\n",
    "    print(\"X_test维度：\" + str(np.shape(X_test)))\n",
    "    print(\"y_test维度：\" + str(np.shape(y_test)))\n",
    "    input_shape = np.shape(X_train)[1:]\n",
    "    model = DoubleLSTM(input_shape)\n",
    "    model.fit(X_train, y_train, epochs=50, batch_size=306)\n",
    "\n",
    "    score, acc = model.evaluate(X_test, y_test,\n",
    "                                batch_size=90)\n",
    "    print('loss分数:', score)\n",
    "    print('测试精度:', acc)\n",
    "    \n",
    "    \n",
    "    \n",
    "    \n",
    "    \n",
    "    \n",
    "    #迭代训练（注意这个地方要加入callbacks）\n",
    "    model.fit(X_train, Y_train,\n",
    "            batch_size=batch_size, epochs=50,\n",
    "            verbose=1, \n",
    "            validation_data=(X_test, Y_test),\n",
    "            callbacks=[history])\n",
    "#模型评估\n",
    "score = model.evaluate(X_test, Y_test, verbose=0)\n",
    "print('Test score:', score[0])\n",
    "print('Test accuracy:', score[1])\n",
    "\n",
    "#绘制acc-loss曲线\n",
    "history.loss_plot('epoch')"
   ]
  },
  {
   "cell_type": "code",
   "execution_count": null,
   "metadata": {},
   "outputs": [],
   "source": []
  },
  {
   "cell_type": "code",
   "execution_count": null,
   "metadata": {},
   "outputs": [],
   "source": []
  },
  {
   "cell_type": "code",
   "execution_count": null,
   "metadata": {},
   "outputs": [],
   "source": [
    "# (slice_num, time_step, vector_num)     slice_num * time_step = totalAmount"
   ]
  },
  {
   "cell_type": "code",
   "execution_count": null,
   "metadata": {},
   "outputs": [],
   "source": []
  }
 ],
 "metadata": {
  "kernelspec": {
   "display_name": "Python 3 (ipykernel)",
   "language": "python",
   "name": "python3"
  },
  "language_info": {
   "codemirror_mode": {
    "name": "ipython",
    "version": 3
   },
   "file_extension": ".py",
   "mimetype": "text/x-python",
   "name": "python",
   "nbconvert_exporter": "python",
   "pygments_lexer": "ipython3",
   "version": "3.8.5"
  }
 },
 "nbformat": 4,
 "nbformat_minor": 4
}
